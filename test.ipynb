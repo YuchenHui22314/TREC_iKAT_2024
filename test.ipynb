{
 "cells": [
  {
   "cell_type": "markdown",
   "metadata": {},
   "source": [
    "#### Test llm.py (Llama3 8b, mistral 7b v0.2)"
   ]
  },
  {
   "cell_type": "code",
   "execution_count": 6,
   "metadata": {},
   "outputs": [],
   "source": [
    "import sys\n",
    "sys.path.append('/data/rech/huiyuche/TREC_iKAT_2024/src/')\n",
    "from llm import LM\n",
    "import importlib\n",
    "importlib.reload(sys.modules['llm'])\n",
    "from llm import LM\n",
    "import gc\n",
    "import torch\n",
    "from accelerate.utils import release_memory\n",
    "\n",
    "def flush():\n",
    "  gc.collect()\n",
    "  torch.cuda.empty_cache()\n",
    "  torch.cuda.reset_peak_memory_stats()"
   ]
  },
  {
   "cell_type": "code",
   "execution_count": 7,
   "metadata": {},
   "outputs": [
    {
     "name": "stderr",
     "output_type": "stream",
     "text": [
      "/data/rech/huiyuche/envs/trec_ikat/lib/python3.10/site-packages/huggingface_hub/file_download.py:1132: FutureWarning: `resume_download` is deprecated and will be removed in version 1.0.0. Downloads always resume when possible. If you want to force a new download, use `force_download=True`.\n",
      "  warnings.warn(\n",
      "Loading checkpoint shards: 100%|██████████| 3/3 [02:13<00:00, 44.37s/it]\n"
     ]
    }
   ],
   "source": [
    "\n",
    "# Specify the custom cache directory\n",
    "cache_dir = \"/data/rech/huiyuche/huggingface\"\n",
    "\n",
    "# empty the memory\n",
    "flush()\n",
    "# or\n",
    "# release_memory()\n",
    "\n",
    "# llm = LM(\n",
    "#     model_name_or_path=\"meta-llama/Meta-Llama-3-8B-Instruct\",\n",
    "#     tokenizer_name_or_path=\"meta-llama/Meta-Llama-3-8B-Instruct\",\n",
    "#     padding_side=\"left\",\n",
    "#     dtype=\"bf16\",\n",
    "#     device_map= \"auto\",\n",
    "#     use_flash_attention_2=False,\n",
    "#     access_token=None,\n",
    "#     cache_dir=cache_dir,\n",
    "#     accelerator = None\n",
    "# )\n",
    "llm = LM(\n",
    "    model_name_or_path=\"mistralai/Mistral-7B-Instruct-v0.2\",\n",
    "    tokenizer_name_or_path=\"mistralai/Mistral-7B-Instruct-v0.2\",\n",
    "    padding_side=\"left\",\n",
    "    dtype=\"bf16\",\n",
    "    device_map= \"auto\",\n",
    "    attn_implementation=\"flash_attention_2\",\n",
    "    #use_flash_attention_2=False, (deprecated)\n",
    "    access_token=None,\n",
    "    cache_dir=cache_dir,\n",
    "    accelerator = None\n",
    ")\n",
    "\n"
   ]
  },
  {
   "cell_type": "code",
   "execution_count": 8,
   "metadata": {},
   "outputs": [
    {
     "data": {
      "text/plain": [
       "3.205310344696045"
      ]
     },
     "execution_count": 8,
     "metadata": {},
     "output_type": "execute_result"
    }
   ],
   "source": [
    "def bytes_to_giga_bytes(bytes):\n",
    "    return bytes / 1024 / 1024 / 1024\n",
    "\n",
    "bytes_to_giga_bytes(torch.cuda.max_memory_allocated())"
   ]
  },
  {
   "cell_type": "code",
   "execution_count": 9,
   "metadata": {},
   "outputs": [
    {
     "name": "stdout",
     "output_type": "stream",
     "text": [
      "<class 'transformers.models.mistral.modeling_mistral.MistralForCausalLM'>\n"
     ]
    }
   ],
   "source": [
    "print(type(llm.model))"
   ]
  },
  {
   "cell_type": "code",
   "execution_count": 10,
   "metadata": {},
   "outputs": [
    {
     "name": "stderr",
     "output_type": "stream",
     "text": [
      "The attention mask and the pad token id were not set. As a consequence, you may observe unexpected behavior. Please pass your input's `attention_mask` to obtain reliable results.\n",
      "Setting `pad_token_id` to `eos_token_id`:2 for open-end generation.\n"
     ]
    }
   ],
   "source": [
    "messages = [\n",
    "    {\"role\": \"user\", \"content\": \"what is the capital of France?\"},\n",
    "]\n",
    "response = llm.hf_llm_generate(\n",
    "    messages,\n",
    "    temperature = 1,\n",
    "    top_p = 0.9,\n",
    "    max_new_tokens = 256,\n",
    "    do_sample = True,\n",
    "    num_beams = 1,\n",
    "    num_return_sequences = 2\n",
    ")"
   ]
  },
  {
   "cell_type": "code",
   "execution_count": 11,
   "metadata": {},
   "outputs": [
    {
     "name": "stdout",
     "output_type": "stream",
     "text": [
      "['The capital city of France is Paris. Paris is the most populous city in France and is known for its iconic landmarks such as the Eiffel Tower, Louvre Museum, Notre-Dame Cathedral, and the Arc de Triomphe. It is also home to numerous world-renowned universities, museums, galleries, and theaters, making it a global cultural hub. Paris is located in the north-central part of France and is surrounded by the Seine River.', 'The capital city of France is Paris. Paris is one of the most famous and visited cities in the world, known for its iconic landmarks such as the Eiffel Tower, Louvre Museum, Notre-Dame Cathedral, and the Arc de Triomphe. Paris is also the political, cultural, and economic center of France.']\n"
     ]
    }
   ],
   "source": [
    "print(response)"
   ]
  },
  {
   "cell_type": "code",
   "execution_count": 61,
   "metadata": {},
   "outputs": [],
   "source": [
    "messages = [\n",
    "    [{\"role\": \"user\", \"content\": \"Who are you?\"}],\n",
    "    [{\"role\": \"user\", \"content\": \"what is the capital of Germany?\"}],\n",
    "]\n",
    "outputs = llm.hf_llm_generate_via_pipline(\n",
    "    messages,\n",
    "    temperature = 0.1,\n",
    "    top_p = 1,\n",
    "    max_new_tokens = 256,\n",
    "    do_sample = True,\n",
    "    num_beams = 1,\n",
    "    num_return_sequences = 2\n",
    ")"
   ]
  },
  {
   "cell_type": "code",
   "execution_count": 62,
   "metadata": {},
   "outputs": [
    {
     "name": "stdout",
     "output_type": "stream",
     "text": [
      "[[{'generated_text': [{'role': 'user', 'content': 'Who are you?'}, {'role': 'assistant', 'content': \" I am a large language model trained by Mistral AI. I am designed to generate human-like text based on the input I receive. I don't have the ability to have feelings, emotions, or a personality. I exist to help answer questions, generate creative text, and assist with various tasks.\"}]}, {'generated_text': [{'role': 'user', 'content': 'Who are you?'}, {'role': 'assistant', 'content': \" I am a large language model trained by Mistral AI. I am designed to generate human-like text based on the input I receive. I don't have the ability to have feelings, emotions, or a personality. I exist to help answer questions, generate text, and assist with various tasks.\"}]}], [{'generated_text': [{'role': 'user', 'content': 'what is the capital of Germany?'}, {'role': 'assistant', 'content': ' The capital city of Germany is Berlin. Berlin is one of the 16 federal states of Germany and is located in the northeastern part of the country. It is the most populous city in Germany and is known for its rich history, diverse culture, and vibrant arts scene. Berlin is home to many famous landmarks, including the Brandenburg Gate, the Reichstag Building, and the Berlin Wall Memorial.'}]}, {'generated_text': [{'role': 'user', 'content': 'what is the capital of Germany?'}, {'role': 'assistant', 'content': \" The capital city of Germany is Berlin. Berlin is one of the 16 federal states of Germany and is located in the northeastern part of the country. It is the most populous city in Germany and is known for its rich history, diverse culture, and vibrant arts scene. Berlin has been the capital of Germany since the country's reunification in 1990.\"}]}]]\n"
     ]
    }
   ],
   "source": [
    "print(outputs)"
   ]
  },
  {
   "cell_type": "code",
   "execution_count": 65,
   "metadata": {},
   "outputs": [
    {
     "data": {
      "text/plain": [
       "[[\" I am a large language model trained by Mistral AI. I am designed to generate human-like text based on the input I receive. I don't have the ability to have feelings, emotions, or a personality. I exist to help answer questions, generate creative text, and assist with various tasks.\",\n",
       "  \" I am a large language model trained by Mistral AI. I am designed to generate human-like text based on the input I receive. I don't have the ability to have feelings, emotions, or a personality. I exist to help answer questions, generate text, and assist with various tasks.\"],\n",
       " [' The capital city of Germany is Berlin. Berlin is one of the 16 federal states of Germany and is located in the northeastern part of the country. It is the most populous city in Germany and is known for its rich history, diverse culture, and vibrant arts scene. Berlin is home to many famous landmarks, including the Brandenburg Gate, the Reichstag Building, and the Berlin Wall Memorial.',\n",
       "  \" The capital city of Germany is Berlin. Berlin is one of the 16 federal states of Germany and is located in the northeastern part of the country. It is the most populous city in Germany and is known for its rich history, diverse culture, and vibrant arts scene. Berlin has been the capital of Germany since the country's reunification in 1990.\"]]"
      ]
     },
     "execution_count": 65,
     "metadata": {},
     "output_type": "execute_result"
    }
   ],
   "source": [
    "[[alternative[\"generated_text\"][-1][\"content\"] for alternative in output] for output in outputs ]"
   ]
  },
  {
   "cell_type": "markdown",
   "metadata": {},
   "source": [
    "### Download LLM"
   ]
  },
  {
   "cell_type": "code",
   "execution_count": 3,
   "metadata": {},
   "outputs": [],
   "source": [
    "from accelerate import Accelerator\n",
    "from accelerate import init_empty_weights\n",
    "from accelerate import load_checkpoint_and_dispatch\n",
    "\n",
    "from transformers import (\n",
    "    AutoTokenizer,\n",
    "    AutoConfig,\n",
    "    AutoModel,\n",
    "    AutoModelForCausalLM,\n",
    "    AutoModelForSeq2SeqLM,\n",
    "    logging\n",
    ")\n",
    "\n",
    "from peft import PeftModel, PeftConfig\n",
    "\n",
    "\n",
    "# Specify the custom cache directory\n",
    "cache_dir = \"/data/rech/huiyuche/huggingface\"\n",
    "\n",
    "\n",
    "\n",
    "# with init_empty_weights():\n",
    "#     model = AutoModelForCausalLM()\n",
    "\n",
    "# model = load_checkpoint_and_dispatch(\n",
    "#     model,\n",
    "#     checkpoint=cache_dir + \"/models--meta-llama--Meta-Llama-3-8B-Instruct\",\n",
    "#     device_map=\"auto\",\n",
    "# )\n",
    "# print(model)\n",
    "\n",
    "\n",
    "# accelerator = Accelerator()\n",
    "# print(accelerator.device)"
   ]
  },
  {
   "cell_type": "markdown",
   "metadata": {},
   "source": [
    "#### Mistral 7b v0.2"
   ]
  },
  {
   "cell_type": "code",
   "execution_count": null,
   "metadata": {},
   "outputs": [],
   "source": [
    "tokenizer = AutoTokenizer.from_pretrained(\n",
    "    \"mistralai/Mistral-7B-Instruct-v0.2\", cache_dir=cache_dir\n",
    ")\n",
    "model = AutoModelForCausalLM.from_pretrained(\n",
    "    \"mistralai/Mistral-7B-Instruct-v0.2\", cache_dir=cache_dir\n",
    ")"
   ]
  },
  {
   "cell_type": "markdown",
   "metadata": {},
   "source": [
    "#### Llama3 8b"
   ]
  },
  {
   "cell_type": "code",
   "execution_count": null,
   "metadata": {},
   "outputs": [],
   "source": [
    "tokenizer = AutoTokenizer.from_pretrained(\n",
    "    \"meta-llama/Meta-Llama-3-8B-Instruct\", cache_dir=cache_dir\n",
    ")\n",
    "model = AutoModelForCausalLM.from_pretrained(\"meta-llama/Meta-Llama-3-8B-Instruct\", cache_dir = cache_dir, device_map=\"auto\")"
   ]
  },
  {
   "cell_type": "markdown",
   "metadata": {},
   "source": [
    "#### Rankllama"
   ]
  },
  {
   "cell_type": "code",
   "execution_count": 5,
   "metadata": {},
   "outputs": [
    {
     "name": "stderr",
     "output_type": "stream",
     "text": [
      "Downloading shards: 100%|██████████| 2/2 [06:06<00:00, 183.17s/it]\n",
      "Loading checkpoint shards: 100%|██████████| 2/2 [02:04<00:00, 62.43s/it]\n",
      "Some weights of LlamaForSequenceClassification were not initialized from the model checkpoint at meta-llama/Llama-2-7b-hf and are newly initialized: ['score.weight']\n",
      "You should probably TRAIN this model on a down-stream task to be able to use it for predictions and inference.\n"
     ]
    },
    {
     "name": "stdout",
     "output_type": "stream",
     "text": [
      "tensor(6.1578)\n"
     ]
    }
   ],
   "source": [
    "import torch\n",
    "from transformers import AutoModelForSequenceClassification, AutoTokenizer\n",
    "from peft import PeftModel, PeftConfig\n",
    "\n",
    "def get_model(peft_model_name):\n",
    "    config = PeftConfig.from_pretrained(peft_model_name)\n",
    "    base_model = AutoModelForSequenceClassification.from_pretrained(config.base_model_name_or_path, num_labels=1)\n",
    "    model = PeftModel.from_pretrained(base_model, peft_model_name)\n",
    "    model = model.merge_and_unload()\n",
    "    model.eval()\n",
    "    return model\n",
    "\n",
    "# Load the tokenizer and model\n",
    "tokenizer = AutoTokenizer.from_pretrained('meta-llama/Llama-2-7b-hf')\n",
    "model = get_model('castorini/rankllama-v1-7b-lora-passage')\n",
    "\n",
    "# Define a query-passage pair\n",
    "query = \"What is llama?\"\n",
    "title = \"Llama\"\n",
    "passage = \"The llama is a domesticated South American camelid, widely used as a meat and pack animal by Andean cultures since the pre-Columbian era.\"\n",
    "\n",
    "# Tokenize the query-passage pair\n",
    "inputs = tokenizer(f'query: {query}', f'document: {title} {passage}', return_tensors='pt')\n",
    "\n",
    "# Run the model forward\n",
    "with torch.no_grad():\n",
    "    outputs = model(**inputs)\n",
    "    logits = outputs.logits\n",
    "    score = logits[0][0]\n",
    "    print(score)\n"
   ]
  },
  {
   "cell_type": "code",
   "execution_count": null,
   "metadata": {},
   "outputs": [],
   "source": []
  },
  {
   "cell_type": "markdown",
   "metadata": {},
   "source": [
    "#### Repllama"
   ]
  },
  {
   "cell_type": "code",
   "execution_count": 4,
   "metadata": {},
   "outputs": [
    {
     "name": "stderr",
     "output_type": "stream",
     "text": [
      "Downloading shards: 100%|██████████| 2/2 [04:52<00:00, 146.37s/it]\n",
      "Loading checkpoint shards: 100%|██████████| 2/2 [02:04<00:00, 62.47s/it]\n"
     ]
    },
    {
     "name": "stdout",
     "output_type": "stream",
     "text": [
      "LlamaModel(\n",
      "  (embed_tokens): Embedding(32000, 4096)\n",
      "  (layers): ModuleList(\n",
      "    (0-31): 32 x LlamaDecoderLayer(\n",
      "      (self_attn): LlamaSdpaAttention(\n",
      "        (q_proj): Linear(in_features=4096, out_features=4096, bias=False)\n",
      "        (k_proj): Linear(in_features=4096, out_features=4096, bias=False)\n",
      "        (v_proj): Linear(in_features=4096, out_features=4096, bias=False)\n",
      "        (o_proj): Linear(in_features=4096, out_features=4096, bias=False)\n",
      "        (rotary_emb): LlamaRotaryEmbedding()\n",
      "      )\n",
      "      (mlp): LlamaMLP(\n",
      "        (gate_proj): Linear(in_features=4096, out_features=11008, bias=False)\n",
      "        (up_proj): Linear(in_features=4096, out_features=11008, bias=False)\n",
      "        (down_proj): Linear(in_features=11008, out_features=4096, bias=False)\n",
      "        (act_fn): SiLU()\n",
      "      )\n",
      "      (input_layernorm): LlamaRMSNorm()\n",
      "      (post_attention_layernorm): LlamaRMSNorm()\n",
      "    )\n",
      "  )\n",
      "  (norm): LlamaRMSNorm()\n",
      ")\n"
     ]
    }
   ],
   "source": [
    "import torch\n",
    "from transformers import AutoModel, AutoTokenizer\n",
    "from peft import PeftModel, PeftConfig\n",
    "\n",
    "def get_model(peft_model_name):\n",
    "    config = PeftConfig.from_pretrained(peft_model_name)\n",
    "    base_model = AutoModel.from_pretrained(config.base_model_name_or_path, \n",
    "                                           cache_dir=cache_dir, \n",
    "                                           device_map=\"auto\")\n",
    "    model = PeftModel.from_pretrained(base_model, peft_model_name)\n",
    "    model = model.merge_and_unload()\n",
    "    model.eval()\n",
    "    return model\n",
    "\n",
    "# Load the tokenizer and model\n",
    "tokenizer = AutoTokenizer.from_pretrained('meta-llama/Llama-2-7b-hf')\n",
    "model = get_model('castorini/repllama-v1-7b-lora-passage')\n",
    "print(model)\n",
    "# Define query and passage inputs\n",
    "# query = \"What is llama?\"\n",
    "# title = \"Llama\"\n",
    "# passage = \"The llama is a domesticated South American camelid, widely used as a meat and pack animal by Andean cultures since the pre-Columbian era.\"\n",
    "# query_input = tokenizer(f'query: {query}</s>', return_tensors='pt')\n",
    "# passage_input = tokenizer(f'passage: {title} {passage}</s>', return_tensors='pt')\n",
    "\n",
    "# # Run the model forward to compute embeddings and query-passage similarity score\n",
    "# with torch.no_grad():\n",
    "#     # compute query embedding\n",
    "#     query_outputs = model(**query_input)\n",
    "#     query_embedding = query_outputs.last_hidden_state[0][-1]\n",
    "#     query_embedding = torch.nn.functional.normalize(query_embedding, p=2, dim=0)\n",
    "\n",
    "#     # compute passage embedding\n",
    "#     passage_outputs = model(**passage_input)\n",
    "#     passage_embeddings = passage_outputs.last_hidden_state[0][-1]\n",
    "#     passage_embeddings = torch.nn.functional.normalize(passage_embeddings, p=2, dim=0)\n",
    "\n",
    "#     # compute similarity score\n",
    "#     score = torch.dot(query_embedding, passage_embeddings)\n",
    "#     print(score)\n"
   ]
  },
  {
   "cell_type": "markdown",
   "metadata": {},
   "source": [
    "# Test qrels"
   ]
  },
  {
   "cell_type": "code",
   "execution_count": 12,
   "metadata": {},
   "outputs": [
    {
     "name": "stdout",
     "output_type": "stream",
     "text": [
      "{'clueweb22-en0000-00-00251:12': 0, 'clueweb22-en0000-06-17856:4': 1, 'clueweb22-en0000-78-08540:4': 0, 'clueweb22-en0000-84-18471:16': 0, 'clueweb22-en0001-53-12566:3': 1, 'clueweb22-en0002-40-16532:0': 1}\n"
     ]
    }
   ],
   "source": [
    "import pytrec_eval\n",
    "qrel_file_path = \"/data/rech/huiyuche/TREC_iKAT_2024/data/qrels/toy_qrel.txt\"\n",
    "with open(qrel_file_path, 'r') as f_qrel:\n",
    "    qrel_ndcg = pytrec_eval.parse_qrel(f_qrel)\n",
    "print(qrel_ndcg[\"9-1-3\"])"
   ]
  },
  {
   "cell_type": "code",
   "execution_count": 13,
   "metadata": {},
   "outputs": [
    {
     "name": "stdout",
     "output_type": "stream",
     "text": [
      "{'clueweb22-en0000-00-00251:12': 0, 'clueweb22-en0000-06-17856:4': 1, 'clueweb22-en0000-78-08540:4': 0, 'clueweb22-en0000-84-18471:16': 0, 'clueweb22-en0001-53-12566:3': 1, 'clueweb22-en0002-40-16532:0': 1}\n"
     ]
    }
   ],
   "source": [
    "qrel = {\n",
    "        qid: {docid: 1 if rel_score > 0 else 0 for docid, rel_score in qrel_ndcg[qid].items()} for qid in qrel_ndcg.keys()\n",
    "    }\n",
    "print(qrel[\"9-1-3\"])"
   ]
  },
  {
   "cell_type": "code",
   "execution_count": 14,
   "metadata": {},
   "outputs": [
    {
     "name": "stdout",
     "output_type": "stream",
     "text": [
      "{'9-1-3': {'map': 0.4666666666666666, 'ndcg_cut_5': 0.4776237035032179}}\n",
      "{'9-1-3': {'map': 0.4666666666666666, 'ndcg_cut_5': 0.4776237035032179}}\n"
     ]
    }
   ],
   "source": [
    "# read ranking list\n",
    "ranking_list_path = \"/data/rech/huiyuche/TREC_iKAT_2024/results/test/toy_ranking_list.txt\"\n",
    "with open(ranking_list_path, 'r') as f_run:\n",
    "    run = pytrec_eval.parse_run(f_run)\n",
    "\n",
    "# pytrec_eval eval\n",
    "evaluator = pytrec_eval.RelevanceEvaluator(qrel, {\"map\", \"ndcg_cut.5\"})\n",
    "res = evaluator.evaluate(run)\n",
    "print(res)\n",
    "evaluator = pytrec_eval.RelevanceEvaluator(qrel_ndcg, {\"map\", \"ndcg_cut.5\"})\n",
    "res = evaluator.evaluate(run)\n",
    "print(res)"
   ]
  },
  {
   "cell_type": "markdown",
   "metadata": {},
   "source": [
    "# Test collection\n"
   ]
  },
  {
   "cell_type": "markdown",
   "metadata": {},
   "source": [
    "#### jsonl file check"
   ]
  },
  {
   "cell_type": "code",
   "execution_count": 1,
   "metadata": {},
   "outputs": [
    {
     "name": "stdout",
     "output_type": "stream",
     "text": [
      "the total number of lines in the file is:  116838987\n"
     ]
    }
   ],
   "source": [
    "\n",
    "counter = 0\n",
    "with open(\"/data/rech/huiyuche/TREC_iKAT_2024/data/collections/ikat_23/cluweb22B_ikat_v2.jsonl\", \"r\") as f:\n",
    "    # count the total number of lines in the file\n",
    "    line = f.readline()\n",
    "    while line:\n",
    "        counter += 1\n",
    "        line = f.readline()\n",
    "\n",
    "print(\"the total number of lines in the file is: \", counter)\n"
   ]
  },
  {
   "cell_type": "code",
   "execution_count": null,
   "metadata": {},
   "outputs": [],
   "source": [
    "with open(\"/data/rech/huiyuche/TREC_iKAT_2024/data/collections/ikat_23/cluweb22B_ikat_v2.jsonl\", \"r\") as f:\n",
    "    # count the total number of lines in the file\n",
    "    line = f.readline()\n",
    "    print(line)"
   ]
  },
  {
   "cell_type": "code",
   "execution_count": null,
   "metadata": {},
   "outputs": [],
   "source": [
    "counter = 0\n",
    "with open(\"/data/rech/huiyuche/cast23_collection.tsv\", \"r\") as f:\n",
    "    # count the total number of lines in the file\n",
    "    line = f.readline()\n",
    "    while line:\n",
    "        counter += 1\n",
    "        line = f.readline()\n",
    "\n",
    "print(\"the total number of lines in the file is: \", counter)"
   ]
  },
  {
   "cell_type": "code",
   "execution_count": 2,
   "metadata": {},
   "outputs": [
    {
     "name": "stdout",
     "output_type": "stream",
     "text": [
      "{\"id\": \"clueweb22-en0004-50-00485:0\", \"contents\": \"RACISM AND THE POLICE: The Shooting of Michael Brown in Ferguson - Sociology Toolbox RACISM AND THE POLICE: The Shooting of Michael Brown in Ferguson Todd Beer on August 18, 2014 *For a look at the patterns that have emerged in the police shootings of unarmed black citizens since the shooting of Michael Brown in Ferguson click here. . . . Systematic racism has been made evident again in the shooting of an unarmed young Black man, Michael Brown, by a police officer in Ferguson, Missouri.  Pulling stories directly from recent news headlines is one way to get students’ attention and demonstrate the abundant relevance of the sociological perspective.  The New York Times has a timeline of the events that serves as a useful starting point (from the mainstream media) to share the events with students that may have not kept up with the story. The community of Ferguson, Missouri (the site of the shooting) has responded with on-going mass protests. Ferguson cannot be understood in a vacuum. These events are rich with sociological issues –  inequality and poverty, racial profiling, the militarization of the police, protester and police interaction, social media (#Ferguson and hashtag activism) and the “criminalization of Black male youth”. Looking first at the disproportionate levels of poverty and subsequent exclusion from the economy of many Blacks in the US, Brookings, a Democratic leaning think tank, analyzed census tract data of changes in the poverty rates in Ferguson (and the surrounding area) between 2000 and 2008-2012.   They state: “But Ferguson has also been home to dramatic economic changes in recent years.\"}\n",
      "\n"
     ]
    }
   ],
   "source": [
    "# read the first line\n",
    "\n",
    "with open (\"/data/rech/huiyuche/TREC_iKAT_2024/data/collections/ikat_23/cluweb22B_ikat_v2.jsonl\", \"r\") as f:\n",
    "    line = f.readline()\n",
    "    print(line)"
   ]
  },
  {
   "cell_type": "code",
   "execution_count": null,
   "metadata": {},
   "outputs": [],
   "source": [
    "{\"id\": \"clueweb22-en0004-50-00485:0\", \"contents\": \"RACISM AND THE POLICE: The Shooting of Michael Brown in Ferguson - Sociology Toolbox RACISM AND THE POLICE: The Shooting of Michael Brown in Ferguson Todd Beer on August 18, 2014 *For a look at the patterns that have emerged in the police shootings of unarmed black citizens since the shooting of Michael Brown in Ferguson click here. . . . Systematic racism has been made evident again in the shooting of an unarmed young Black man, Michael Brown, by a police officer in Ferguson, Missouri.  Pulling stories directly from recent news headlines is one way to get students’ attention and demonstrate the abundant relevance of the sociological perspective.  The New York Times has a timeline of the events that serves as a useful starting point (from the mainstream media) to share the events with students that may have not kept up with the story. The community of Ferguson, Missouri (the site of the shooting) has responded with on-going mass protests. Ferguson cannot be understood in a vacuum. These events are rich with sociological issues –  inequality and poverty, racial profiling, the militarization of the police, protester and police interaction, social media (#Ferguson and hashtag activism) and the “criminalization of Black male youth”. Looking first at the disproportionate levels of poverty and subsequent exclusion from the economy of many Blacks in the US, Brookings, a Democratic leaning think tank, analyzed census tract data of changes in the poverty rates in Ferguson (and the surrounding area) between 2000 and 2008-2012.   They state: “But Ferguson has also been home to dramatic economic changes in recent years.\"}"
   ]
  },
  {
   "cell_type": "markdown",
   "metadata": {},
   "source": [
    "#### tsv file check"
   ]
  },
  {
   "cell_type": "code",
   "execution_count": 1,
   "metadata": {},
   "outputs": [
    {
     "name": "stdout",
     "output_type": "stream",
     "text": [
      "13\n",
      "['clueweb22-en0022-08-02126:19', 'Personal Requirements: ●', '18 years of age or older. ●', 'Excellent command of the English Language. ●', 'Computer literate. ●', 'Quiet working environment. ●', 'Willing and able to work from home. Technical Requirements: ●', 'Reliable internet connection at home, with download and upload speeds of at least 1 Mbps. ●', 'Laptop or Desktop computer. ●', 'Webcam. ●', 'Headset/Earphones. Benefits: ●', 'Work from Home.', 'https://www.learn4good.com/jobs/language/english/list/teaching/turkey/']\n"
     ]
    }
   ],
   "source": [
    "line = \"clueweb22-en0022-08-02126:19\tPersonal Requirements: ●\t18 years of age or older. ●\tExcellent command of the English Language. ●\tComputer literate. ●\tQuiet working environment. ●\tWilling and able to work from home. Technical Requirements: ●\tReliable internet connection at home, with download and upload speeds of at least 1 Mbps. ●\tLaptop or Desktop computer. ●\tWebcam. ●\tHeadset/Earphones. Benefits: ●\tWork from Home.\thttps://www.learn4good.com/jobs/language/english/list/teaching/turkey/\"\n",
    "\n",
    "splits= line.strip().split('\\t')\n",
    "\n",
    "print(len(splits))\n",
    "print(splits)"
   ]
  },
  {
   "cell_type": "code",
   "execution_count": 3,
   "metadata": {},
   "outputs": [
    {
     "name": "stdout",
     "output_type": "stream",
     "text": [
      "the number of tab in a line is 2\n"
     ]
    }
   ],
   "source": [
    "line = \"clueweb22-en0004-50-00485:0\tRACISM AND THE POLICE: The Shooting of Michael Brown in Ferguson - Sociology Toolbox RACISM AND THE POLICE: The Shooting of Michael Brown in Ferguson Todd Beer on August 18, 2014 *For a look at the patterns that have emerged in the police shootings of unarmed black citizens since the shooting of Michael Brown in Ferguson click here. . . . Systematic racism has been made evident again in the shooting of an unarmed young Black man, Michael Brown, by a police officer in Ferguson, Missouri.  Pulling stories directly from recent news headlines is one way to get students’ attention and demonstrate the abundant relevance of the sociological perspective.  The New York Times has a timeline of the events that serves as a useful starting point (from the mainstream media) to share the events with students that may have not kept up with the story. The community of Ferguson, Missouri (the site of the shooting) has responded with on-going mass protests. Ferguson cannot be understood in a vacuum. These events are rich with sociological issues –  inequality and poverty, racial profiling, the militarization of the police, protester and police interaction, social media (#Ferguson and hashtag activism) and the “criminalization of Black male youth”. Looking first at the disproportionate levels of poverty and subsequent exclusion from the economy of many Blacks in the US, Brookings, a Democratic leaning think tank, analyzed census tract data of changes in the poverty rates in Ferguson (and the surrounding area) between 2000 and 2008-2012.   They state: “But Ferguson has also been home to dramatic economic changes in recent years.\thttps://thesocietypages.org/toolbox/racism-police-ferguson/\"\n",
    "print(\"the number of tab in a line is\", sum([1 for c in line if c == \"\\t\"]) )"
   ]
  },
  {
   "cell_type": "markdown",
   "metadata": {},
   "source": [
    "# Test general python operation"
   ]
  },
  {
   "cell_type": "code",
   "execution_count": 17,
   "metadata": {},
   "outputs": [
    {
     "name": "stdout",
     "output_type": "stream",
     "text": [
      "yuchen\n",
      "abc\n"
     ]
    }
   ],
   "source": [
    "a = 2\n",
    "b = 3\n",
    "name = 5\n",
    "def b():\n",
    "    a()\n",
    "\n",
    "def a():\n",
    "    print(name)\n",
    "    print(\"abc\")\n",
    "\n",
    "\n",
    "name = \"yuchen\"\n",
    "b()"
   ]
  },
  {
   "cell_type": "code",
   "execution_count": null,
   "metadata": {},
   "outputs": [],
   "source": [
    "[[{'generated_text': [{'role': 'user', 'content': 'Who are you?'}, {'role': 'assistant', 'content': \"I am LLaMA, an AI assistant developed by Meta AI that can understand and respond to human input in a conversational manner. I'm not a human, but a computer program designed to simulate conversation and answer questions to the best of my knowledge based on my training data.\\n\\nI'm a large language model, which means I've been trained on a massive dataset of text from various sources, including books, articles, and websites. This training enables me to understand and generate human-like language, allowing me to engage in conversations, answer questions, and even create text based on a given prompt.\\n\\nI'm constantly learning and improving my responses based on the interactions I have with users like you. So, feel free to ask me anything, and I'll do my best to provide a helpful and accurate response!\"}]}]"
   ]
  },
  {
   "cell_type": "code",
   "execution_count": null,
   "metadata": {},
   "outputs": [],
   "source": [
    "[[{'generated_text': [{'role': 'user', 'content': 'Who are you?'}, {'role': 'assistant', 'content': \" I am a large language model developed by Mistral AI. I am designed to generate human-like text based on the input I receive. I don't have the ability to have feelings, emotions, or a physical presence. I exist solely to process and generate text.\"}]}, {'generated_text': [{'role': 'user', 'content': 'Who are you?'}, {'role': 'assistant', 'content': \" I am a large language model trained by Mistral AI. I am designed to generate human-like text based on the input I receive. I don't have the ability to have feelings, emotions, or a personality. I exist to help answer questions, generate text, and assist with various tasks.\"}]}]]"
   ]
  },
  {
   "cell_type": "code",
   "execution_count": null,
   "metadata": {},
   "outputs": [],
   "source": [
    "[[{'generated_text': [{'role': 'user', 'content': 'Who are you?'}, {'role': 'assistant', 'content': \" I am a large language model trained by Mistral AI. I am designed to generate human-like text based on the input I receive. I don't have the ability to have feelings, emotions, or a personality. I exist to help answer questions, generate creative text, and assist with various tasks.\"}]}, {'generated_text': [{'role': 'user', 'content': 'Who are you?'}, {'role': 'assistant', 'content': \" I am a large language model trained by Mistral AI. I am designed to generate human-like text based on the input I receive. I don't have the ability to have feelings, emotions, or a personality. I exist to help answer questions, generate text, and assist with various tasks.\"}]}], [{'generated_text': [{'role': 'user', 'content': 'what is the capital of Germany?'}, {'role': 'assistant', 'content': ' The capital city of Germany is Berlin. Berlin is one of the 16 federal states of Germany and is located in the northeastern part of the country. It is the most populous city in Germany and is known for its rich history, diverse culture, and vibrant arts scene. Berlin is home to many famous landmarks, including the Brandenburg Gate, the Reichstag Building, and the Berlin Wall Memorial.'}]}, {'generated_text': [{'role': 'user', 'content': 'what is the capital of Germany?'}, {'role': 'assistant', 'content': \" The capital city of Germany is Berlin. Berlin is one of the 16 federal states of Germany and is located in the northeastern part of the country. It is the most populous city in Germany and is known for its rich history, diverse culture, and vibrant arts scene. Berlin has been the capital of Germany since the country's reunification in 1990.\"}]}]]"
   ]
  },
  {
   "cell_type": "markdown",
   "metadata": {},
   "source": [
    "# Test topics.py\n"
   ]
  },
  {
   "cell_type": "code",
   "execution_count": 36,
   "metadata": {},
   "outputs": [],
   "source": [
    "import sys\n",
    "sys.path.append('/data/rech/huiyuche/TREC_iKAT_2024/src/')\n",
    "from topics import Turn, load_turns_from_ikat_topic_files, save_turns_to_json, load_turns_from_json,Result,Reformulation\n",
    "from dataclasses import asdict\n",
    "import importlib\n",
    "importlib.reload(sys.modules['topics'])\n",
    "from topics import Turn, load_turns_from_ikat_topic_files"
   ]
  },
  {
   "cell_type": "code",
   "execution_count": 37,
   "metadata": {},
   "outputs": [],
   "source": [
    "list_of_turns = load_turns_from_ikat_topic_files(ikat_topic_file = \"/data/rech/huiyuche/TREC_iKAT_2024/data/topics/2023_ikat_test_topics.json\")"
   ]
  },
  {
   "cell_type": "markdown",
   "metadata": {},
   "source": [
    "#### test if dataclasses.asdict works"
   ]
  },
  {
   "cell_type": "code",
   "execution_count": null,
   "metadata": {},
   "outputs": [],
   "source": [
    "lists_of_turns_dict = [asdict(turn) for turn in list_of_turns]\n",
    "print(lists_of_turns_dict)\n",
    "# save_to_json\n",
    "save_turns_to_json(list_of_turns, \"/data/rech/huiyuche/TREC_iKAT_2024/test/ikat_2023_test.json\")\n"
   ]
  },
  {
   "cell_type": "markdown",
   "metadata": {},
   "source": [
    "#### test if load_turns_from_json works"
   ]
  },
  {
   "cell_type": "code",
   "execution_count": 15,
   "metadata": {},
   "outputs": [],
   "source": [
    "list_of_turns = load_turns_from_json(\"/data/rech/huiyuche/TREC_iKAT_2024/test/2023_ikat_test_topics.json\")"
   ]
  },
  {
   "cell_type": "markdown",
   "metadata": {},
   "source": [
    "#### test add_reformulation,"
   ]
  },
  {
   "cell_type": "code",
   "execution_count": 16,
   "metadata": {},
   "outputs": [
    {
     "name": "stdout",
     "output_type": "stream",
     "text": [
      "Turn ID: 9-1-1\n",
      "Title: Finding a diet\n",
      "Current Utterance: Can you help me find a diet for myself?\n",
      "Oracle Utterance: Can you help me find a diet for myself considering that I'm vegetarian, allergic to soybeans, lactose intolerant, can't exercise too much, and should drink water regularly?\n",
      "Number of reformulations: 0\n",
      "Number of results: 0\n",
      "\n",
      "Turn ID: 9-1-1\n",
      "Title: Finding a diet\n",
      "Current Utterance: Can you help me find a diet for myself?\n",
      "Oracle Utterance: Can you help me find a diet for myself considering that I'm vegetarian, allergic to soybeans, lactose intolerant, can't exercise too much, and should drink water regularly?\n",
      "Number of reformulations: 1\n",
      "Number of results: 1\n",
      "\n"
     ]
    }
   ],
   "source": [
    "turn = list_of_turns[0]\n",
    "print(turn)\n",
    "turn.add_reformulation(reformulated_query=\"emm\",reformulation_name=\"test_name\")\n",
    "reformulation = turn.find_reformulation(\"test_name\")\n",
    "turn.add_result(\n",
    "    collection = \"clueweb12B\",\n",
    "    retrieval_model = \"BM25\",\n",
    "    reranker = \"rankllama\",\n",
    "    retrieval_query_type = \"a\",\n",
    "    reranking_query_type = \"b\",\n",
    "    generation_query_type = \"c\", \n",
    "    metrics_dict = {\n",
    "        \"map\": 0.5,\n",
    "        \"ndcg_cut_10\":0.5\n",
    "    }\n",
    ")\n",
    "print(turn)"
   ]
  },
  {
   "cell_type": "code",
   "execution_count": 17,
   "metadata": {},
   "outputs": [
    {
     "name": "stdout",
     "output_type": "stream",
     "text": [
      "{'turn_id': '9-1-1', 'conversation_id': '9-1', 'title': 'Finding a diet', 'current_utterance': 'Can you help me find a diet for myself?', 'current_response': 'Sure, these diets fit your condition and preference: 1) Vegan Mediterranean combines the principles of the Mediterranean diet with veganism and emphasizes whole grains, vegetables, beans, nuts, seeds, herbs, and spices. It excludes animal foods while incorporating plant-based alternatives, offering a sustainable and compassionate approach. (2) Vegan Keto: is a high-fat, low-carbohydrate, and moderate-protein diet which is also exclusively plant-based. It suits individuals following a vegan lifestyle who wish to adopt a ketogenic eating plan. (3) Eco-Atkins is a vegetarian variation of the Atkins diet which focuses on whole grains, vegetables, tofu, legumes, nuts, and seeds while minimizing animal products. By reducing carbohydrate intake and incorporating plant-based protein sources, it promotes sustainability and healthier eating. (4) The Ornish Diet (with limited exercise) is designed to improve overall health, support weight loss, and reverse cardiovascular disease progression, the Ornish diet is low in fat. It emphasizes exercise, stress management, and healthy relationships alongside a low-fat eating plan. It is worth noting that vegan diets, in general, have been linked to a lower risk of chronic health conditions, including heart disease. These diet options provide alternatives for individuals with specific dietary preferences and goals.', 'oracle_utterance': \"Can you help me find a diet for myself considering that I'm vegetarian, allergic to soybeans, lactose intolerant, can't exercise too much, and should drink water regularly?\", 'response_provenance': ['clueweb22-en0035-25-01897:1', 'clueweb22-en0004-30-08099:2', 'clueweb22-en0038-84-16253:4', 'clueweb22-en0020-69-12751:1', 'clueweb22-en0007-46-12888:5'], 'context_utterances': [], 'ptkb': {'1': \"I don't like the new spin-off; because I keep comparing the two and it has lower quality.\", '2': 'Because of my kidney problem, I have to drink water frequently to stay hydrated.', '3': \"I'm going to change my phone.\", '4': \"I can't exercise too much because of the heart problem that I have.\", '5': \"I'm vegetarian.\", '6': \"I'm lactose intolerant.\", '7': \"I'm allergic to soybeans.\", '8': 'I just finished watching the Game of Thrones.', '9': \"I didn't like how the series ended, especially the war scenes.\", '10': \"I'm an Android user.\"}, 'ptkb_provenance': [5, 4, 2], 'reformulations': [{'reformulation_name': 'test_name', 'reformulated_query': 'emm'}], 'results': [{'collection': 'clueweb12B', 'retrieval_model': 'BM25', 'reranker': 'rankllama', 'retrieval_query_type': 'a', 'reranking_query_type': 'b', 'generation_query_type': 'c', 'metrics': {'map': 0.5, 'ndcg_cut_10': 0.5}}]}\n"
     ]
    }
   ],
   "source": [
    "turn_dict = asdict(turn)\n",
    "print(turn_dict)"
   ]
  },
  {
   "cell_type": "markdown",
   "metadata": {},
   "source": [
    "\n",
    "#### test from_dict"
   ]
  },
  {
   "cell_type": "code",
   "execution_count": 18,
   "metadata": {},
   "outputs": [
    {
     "name": "stdout",
     "output_type": "stream",
     "text": [
      "[Reformulation(reformulation_name='test_name', reformulated_query='emm')]\n"
     ]
    }
   ],
   "source": [
    "new_turn = Turn()\n",
    "new_turn.from_dict(turn_dict)\n",
    "print(new_turn.reformulations)"
   ]
  },
  {
   "cell_type": "markdown",
   "metadata": {},
   "source": [
    "# Test rerank"
   ]
  },
  {
   "cell_type": "code",
   "execution_count": 63,
   "metadata": {},
   "outputs": [
    {
     "name": "stderr",
     "output_type": "stream",
     "text": [
      "Loading checkpoint shards: 100%|██████████| 2/2 [00:05<00:00,  2.67s/it]\n",
      "Some weights of LlamaForSequenceClassification were not initialized from the model checkpoint at meta-llama/Llama-2-7b-hf and are newly initialized: ['score.weight']\n",
      "You should probably TRAIN this model on a down-stream task to be able to use it for predictions and inference.\n"
     ]
    }
   ],
   "source": [
    "import sys\n",
    "import importlib\n",
    "sys.path.append('/data/rech/huiyuche/TREC_iKAT_2024/src/')\n",
    "import rerank\n",
    "importlib.reload(sys.modules['rerank'])\n",
    "from rerank import load_rankllama, rerank_rankllama \n",
    "\n",
    "cache_dir = \"/data/rech/huiyuche/huggingface\"\n",
    "\n",
    "\n",
    "query = \"what is the capital of China?\"\n",
    "\n",
    "passages = [\n",
    "    \"The capital of China is Beijing.\",\n",
    "    \"Beijing. The modern day capital of China is Beijing (literally 'Northern Capital'), which first served as China's capital city in 1261, when the Mongol ruler Kublai Khan established his seat of power in the area centered around what is today Beihai Park.\",\n",
    "    \"The capital of France is Paris.\",\n",
    "    \"Llama The llama is a domesticated South American camelid, widely used as a meat and pack animal by Andean cultures since the pre-Columbian era.\"\n",
    "]\n",
    "tokenizer, model = load_rankllama(cache_dir)\n",
    "\n"
   ]
  },
  {
   "cell_type": "code",
   "execution_count": 1,
   "metadata": {},
   "outputs": [
    {
     "name": "stdout",
     "output_type": "stream",
     "text": [
      "ab\n"
     ]
    }
   ],
   "source": [
    "a = \"abc\"\n",
    "print(a[:-1])"
   ]
  },
  {
   "cell_type": "code",
   "execution_count": 64,
   "metadata": {},
   "outputs": [
    {
     "name": "stdout",
     "output_type": "stream",
     "text": [
      "[tensor(3.4062, dtype=torch.bfloat16), tensor(4.4688, dtype=torch.bfloat16), tensor(-3.9062, dtype=torch.bfloat16), tensor(-9.8125, dtype=torch.bfloat16)]\n"
     ]
    }
   ],
   "source": [
    "scores = rerank_rankllama(query, passages, tokenizer, model)\n",
    "print(scores) "
   ]
  },
  {
   "cell_type": "code",
   "execution_count": 58,
   "metadata": {},
   "outputs": [
    {
     "name": "stdout",
     "output_type": "stream",
     "text": [
      "<class 'transformers.models.llama.modeling_llama.LlamaForSequenceClassification'>\n",
      "<class 'transformers.models.llama.tokenization_llama_fast.LlamaTokenizerFast'>\n"
     ]
    }
   ],
   "source": [
    "print(type(model))\n",
    "print(type(tokenizer))"
   ]
  },
  {
   "cell_type": "markdown",
   "metadata": {},
   "source": [
    "#### data structure of hits"
   ]
  },
  {
   "cell_type": "code",
   "execution_count": 68,
   "metadata": {},
   "outputs": [
    {
     "name": "stderr",
     "output_type": "stream",
     "text": [
      "Jun 27, 2024 5:52:04 A.M. org.apache.lucene.store.MemorySegmentIndexInputProvider <init>\n",
      "INFO: Using MemorySegmentIndexInput with Java 21; to disable start with -Dorg.apache.lucene.store.MMapDirectory.enableMemorySegments=false\n"
     ]
    }
   ],
   "source": [
    "from pyserini.search.lucene import LuceneSearcher\n",
    "\n",
    "retrieval_query_list = [\n",
    "    \"what is the capital of France?\",\n",
    "    \"what is the capital of Germany?\",\n",
    "    \"what is the capital of Italy?\"\n",
    "]\n",
    "qid_list_string = [\n",
    "    \"id1\",\n",
    "    \"id2\",\n",
    "    \"id3\"\n",
    "]\n",
    "\n",
    "searcher = LuceneSearcher(\"/part/01/Tmp/yuchen/indexes/clueweb22b_ikat23_fengran_sparse_index_2/\")\n",
    "searcher.set_bm25(0.9, 0.4)\n",
    "hits = searcher.batch_search(retrieval_query_list, qid_list_string, k = 10, threads = 40)"
   ]
  },
  {
   "cell_type": "code",
   "execution_count": 72,
   "metadata": {},
   "outputs": [
    {
     "name": "stdout",
     "output_type": "stream",
     "text": [
      "Rank: 0 | PassageID: clueweb22-en0017-32-04653:0 | Score: 9.22029972076416\n",
      "What is the Capital of France? | Mappr Capital Cities What is the Capital of France? What is the Capital of France? Paris is the capital city of France and the center of France. It is built on the Seine River, in the middle of the Paris Basin. Where is Paris? Known for its monuments, artistic and cultural life all over the world, Paris is also one of the major economic and political centers along with being an important city in world history and is one of the transit points of international transport. Paris, a fashion and luxury world capital, is also known as “City of Lights”. When did Paris Become the Capital? The most important archaeological finds are the remains of the oldest permanent human settlement in the Paris region, which was discovered in 1991 in the 12th region.\n",
      "Rank: 0 | PassageID: clueweb22-en0016-24-18543:0 | Score: 8.990500450134277\n",
      "Brexit & Second Homes in France: What you need to know FRANCE Brexit & Second Homes in France: What you need to know The UK’s departure from the European Union will have consequences for Brits with second homes in France, below we set out what these changes are and how we think they will impact the market Written By: Kate Everett-Allen, Knight Frank 17 Dec 2020 4 minutes to read Categories:Property SectorResidential Sales TopicBrexit World RegionsEurope France We spoke with Caroline Cohen of The French law Practice who answered the following questions for us: If I am looking to buy in France will my purchase costs increase from 1 January 2021? No, there are no additional taxes for non-residents looking to purchase in France after 1 January 2021. Purchase costs will remain at around 7% for an existing property and 2% for a new-build home. What changes if I want to sell my second home in France? There are several factors to consider: Capital Gains Tax In France, there are two payments due on a capital gain, a capital gains tax (CGT) and a social levy. The standard capital gains tax on the sale of a property will remain at 19% and is only payable on a second home, if your French property is your primary residence no CGT is payable. The standard social levy charge for EU residents with a second home in France is currently 7.5% but this increases to 17.2% for British homeowners from 1 January 2021 as they will be no longer be EU residents. This means total costs will equate to 36.2%, up from 26.5%. It’s worth bearing in mind that a capital gain is largely a positive for a homeowner, it means a property asset, in the case of most French purchases, one bought for a lifestyle benefit, has also increased in value generating a return on investment. A taper relief also exists for both CGT and the social levy.\n",
      "Rank: 0 | PassageID: clueweb22-en0021-14-14889:63 | Score: 8.907099723815918\n",
      "London i^the capital of Great Britain. What is the capital o f Germany? Berlin is the capital o f Germany. What is the capital o f France? Paris is the capital o f France. What is the capital o f Poland? Warsaw is the capital o f Poland. What is the capital of Germany? Berlin is the capital of Germany. ffrom\n",
      "Rank: 0 | PassageID: clueweb22-en0037-88-06710:10 | Score: 8.903499603271484\n",
      "[ 13] For example, the fact described by the true statement \"Paris is the capital city of France\" implies that there is such a place as Paris, there is such a place as France, there are such things as capital cities, as well as that France has a government, that the government of France has the power to define its capital city, and that the French government has chosen Paris to be the capital, that there is such a thing as a place or a government, and so on. The verifiable accuracy of all of these assertions, if facts themselves, may coincide to create the fact, that Paris is the capital of France. Difficulties arise, however, in attempting to identify the constituent parts of negative, modal, disjunctive, or moral facts. [ 17] Fact–value distinction Main article: Fact–value distinction Moral philosophers since David Hume have debated whether values are objective, and thus factual. In A Treatise of Human Nature Hume pointed out there is no obvious way for a series of statements about what ought to be the case to be derived from a series of statements of what is the case. Those who insist there is a logical gulf between facts and values, such that it is fallacious to attempt to derive values from facts, include G. E. Moore, who called attempting to do so the naturalistic fallacy . Factual–counterfactual distinction Main article: Counterfactual conditional Factuality —what has occurred— can also be contrasted with counterfactuality: what might have occurred, but did not. A counterfactual conditional or subjunctive conditional is a conditional (or \"if-then\") statement indicating what would be the case if events had been other than they were.\n",
      "Rank: 0 | PassageID: clueweb22-en0001-30-00978:0 | Score: 8.807000160217285\n",
      "Who attacked both Britain and northern Gaul? - Answers 🤝 💻 💰 💯 Resources 📓 🏆 🔀 🤝 Who attacked both Britain and northern Gaul? Wiki User ∙ 2013-04-12 03:37:36 Study now Best Answer Copy angles/saxons Wiki User ∙ 2013-04-12 03:37:36 This answer is: Study guides United Kingdom 24 cards What is the capital of the United Kingdom What is the capital of Denmark What is the capital of Scotland What are narrow deep valleys called 4.5 ☆★☆★☆★☆★☆★ 6 Reviews Study now More answers Anonymous ∙ Lvl 1 ∙ 2020-04-06 19:37:34 Copy 1#. Who attacked both Britain and Northern gaul? This answer is: Who attacked both Britain and northern France? Germany What happened to deserters from France and Britain? they wree attacked by both France and Britain and they were devastated What happened to deserters from Britain and France? they wree attacked by both France and Britain and they were devastated Who attacked both Britain and France? Adyan and friends from Germany Why did America shortly stop trade with France and brion? Both France and Britain attacked America.\n",
      "Rank: 0 | PassageID: clueweb22-en0015-61-14458:0 | Score: 8.795999526977539\n",
      "What is the name of the hats that the people in Paris France wear? - Answers What is the name of the hats that the people in Paris France wear? Wiki User ∙ 2008-05-21 04:16:44 Study now Best Answer Copy barret Wiki User ∙ 2008-05-21 04:16:44 Study guides 📓 What country has a capital that name is Paris? France, Paris, France What is the name of the city that has the Eiffel tower? paris france What is France capital name? Paris What is a city in Paris? Paris is the name of a city, located in France. What is title I can use for a story about Paris France? Just use the name \"Paris\" or \"France :S What are name of cuisines of Paris? name of cuisines of France What is the meaning of the name Paris?\n",
      "Rank: 0 | PassageID: clueweb22-en0021-60-09500:1 | Score: 8.719300270080566\n",
      "Wiki User ∙ 2014-08-26 16:03:59 Study guides United Kingdom 24 cards What is the capital of the United Kingdom What is the capital of Denmark What is the capital of Scotland What are narrow deep valleys called ➡️ See all cards 4.5 ☆★☆★☆★☆★☆★ 6 Reviews How did the weak leadership contribute to the revolutionary mood in France? Cause the had swag for days How did Louis weak leadership contribute to the growing crisis in France? Heueueheh How did Louis xvis weak leadership contribute to the growing crisis in France? Heueueheh How did Louis XVI weak leadership contribute to growing crisis in France? Heueueheh How did Louis XVI weak leadership contribute to the growing crisis in France? Heueueheh How did Louis XIV's weak leadership contribute to the growing crisis in France? I don't know, I have problem too What did etruscans contribute ti the worlds knowledge? They went to south of Syria to trade and contribute but the Romans were to weak to contribute back to the etruscans. Even the indians were to weak Did the consulate bring weak and unorganized leadership in France? That would have been impossible since it brought Napoleon Bonaparte into the government as the First Consul.\n",
      "Rank: 0 | PassageID: clueweb22-en0037-88-06710:9 | Score: 8.717900276184082\n",
      "14] Correspondence and the slingshot argument Pascal Engel's version of the correspondence theory of truth explains that what makes a sentence true is that it corresponds to a fact. [ 15] This theory presupposes the existence of an objective world. The Slingshot argument claims to show that all true statements stand for the same thing, the truth value true. If this argument holds, and facts are taken to be what true statements stand for, then one arrives at the counter-intuitive conclusion that there is only one fact: the truth.[16] Compound facts Any non-trivial true statement about reality is necessarily an abstraction composed of a complex of objects and properties or relations .\"Facts possess internal structure, being complexes of objects and properties or relations\" [ 13] For example, the fact described by the true statement \"Paris is the capital city of France\" implies that there is such a place as Paris, there is such a place as France, there are such things as capital cities, as well as that France has a government, that the government of France has the power to define its capital city, and that the French government has chosen Paris to be the capital, that there is such a thing as a place or a government, and so on. The verifiable accuracy of all of these assertions, if facts themselves, may coincide to create the fact, that Paris is the capital of France. Difficulties arise, however, in attempting to identify the constituent parts of negative, modal, disjunctive, or moral facts. [\n",
      "Rank: 0 | PassageID: clueweb22-en0015-31-19006:0 | Score: 8.682100296020508\n",
      "Dijon city guide - essential visitor information in English Dijon - city and visitor guide Discover the historic capital city of Burgundy About-France.com - the connoisseur's guide to France Explore France ► Essential pages Travel in France Where to go What to see and do ► You are here : France › Heritage cities › Dijon Dijon - the capital of Burgundy On this page Location and access Tourist attractions In the area Local accommodation Parking : the blue dots show parking lots near the tram route. Traffic access to the historic centre is limited, but there are numerous car parks and plenty of street parking too. Just an hour and a half from Paris by high speed train, Dijon, the capital of the modernday region of Bourgogne - Franche- Comté, is a city with a very proud past. In the Middle Ages, the Dukes of Burgundy were second only in power to the Kings of France: and indeed for much of the Middle Ages, the Dukedom of Burgundy was to all intents and purposes an independent state, separate from and at times at war with the Kingdom of France. In the 14th and 15th centuries, the Duchy of Burgundy was a major European power, whose territory stretched at its peak from the North Sea (Flanders, Artois and Picardy) to the border with Switzerland, and Dijon was its capital. Since the regional reforms of 2016, Dijon has become the smallest regional capital in France apart from Orleans , and no longer occupies the position of importance that it enjoyed in medieval and Renaissance times . With a population of just over 150,000, it is far smaller than the big provincial capitals of France like Lyon or Toulouse or Strasbourg. In 2015, its historic centre was listed as a UNESCO world heritage site. Located at the northern end of the main Burgundy vineyard area, Dijon is nowadays best known as one of the wine capitals of France, and also for its famous mustard, la Moutarde de Dijon, which is known worldwide. Don't expect however to find a city surrounded by mustard fields; the yellow fields that can be seen round Dijon in the spring time are fields of colza, or oil-seed rape, not of mustard.\n",
      "Rank: 0 | PassageID: clueweb22-en0021-14-14889:62 | Score: 8.652999877929688\n",
      "[ greit bntn] | G erm any:] Poland [ paubndj 77; C\\ I -j . Berlin is the capital o f Germany. W hatj^ the capital o f Great Britain? London i^the capital of Great Britain. What is the capital o f Germany? Berlin is the capital o f Germany. What is the capital o f France? Paris is the capital o f France.\n"
     ]
    }
   ],
   "source": [
    "import json\n",
    "emmm = hits[\"id1\"]\n",
    "for hit in emmm:\n",
    "    print('Rank: {} | PassageID: {} | Score: {}'.format(0, hit.docid, hit.score))\n",
    "    doc = searcher.doc(hit.docid)\n",
    "    parsed_doc = json.loads(doc.raw())\n",
    "    print(parsed_doc['contents'])"
   ]
  },
  {
   "cell_type": "code",
   "execution_count": 2,
   "metadata": {},
   "outputs": [
    {
     "name": "stdout",
     "output_type": "stream",
     "text": [
      "{'id2': [<io.anserini.search.ScoredDoc at 0x7f314739a710 jclass=io/anserini/search/ScoredDoc jself=<LocalRef obj=0x1127f35a at 0x7f314747ffb0>>, <io.anserini.search.ScoredDoc at 0x7f314739a620 jclass=io/anserini/search/ScoredDoc jself=<LocalRef obj=0x1127f362 at 0x7f314747f9d0>>, <io.anserini.search.ScoredDoc at 0x7f314739aee0 jclass=io/anserini/search/ScoredDoc jself=<LocalRef obj=0x1127f372 at 0x7f314747cd90>>, <io.anserini.search.ScoredDoc at 0x7f314739a210 jclass=io/anserini/search/ScoredDoc jself=<LocalRef obj=0x1127f37a at 0x7f314747ffd0>>, <io.anserini.search.ScoredDoc at 0x7f314739a170 jclass=io/anserini/search/ScoredDoc jself=<LocalRef obj=0x1127f3a2 at 0x7f314747f950>>, <io.anserini.search.ScoredDoc at 0x7f314739a3f0 jclass=io/anserini/search/ScoredDoc jself=<LocalRef obj=0x1127f3b2 at 0x7f314747c050>>, <io.anserini.search.ScoredDoc at 0x7f314739a850 jclass=io/anserini/search/ScoredDoc jself=<LocalRef obj=0x1127f3ba at 0x7f314747f470>>, <io.anserini.search.ScoredDoc at 0x7f314739a580 jclass=io/anserini/search/ScoredDoc jself=<LocalRef obj=0x1127f3c2 at 0x7f314747e170>>, <io.anserini.search.ScoredDoc at 0x7f3147398fa0 jclass=io/anserini/search/ScoredDoc jself=<LocalRef obj=0x1127f3ca at 0x7f314747df30>>, <io.anserini.search.ScoredDoc at 0x7f3147398f00 jclass=io/anserini/search/ScoredDoc jself=<LocalRef obj=0x1127f3d2 at 0x7f314747d610>>], 'id1': [<io.anserini.search.ScoredDoc at 0x7f3147399040 jclass=io/anserini/search/ScoredDoc jself=<LocalRef obj=0x1127f3da at 0x7f314747edb0>>, <io.anserini.search.ScoredDoc at 0x7f314739a5d0 jclass=io/anserini/search/ScoredDoc jself=<LocalRef obj=0x1127f3e2 at 0x7f314747eaf0>>, <io.anserini.search.ScoredDoc at 0x7f3147399090 jclass=io/anserini/search/ScoredDoc jself=<LocalRef obj=0x1127f3ea at 0x7f314747e690>>, <io.anserini.search.ScoredDoc at 0x7f31473990e0 jclass=io/anserini/search/ScoredDoc jself=<LocalRef obj=0x1127f3f2 at 0x7f314747fe50>>, <io.anserini.search.ScoredDoc at 0x7f314739a4e0 jclass=io/anserini/search/ScoredDoc jself=<LocalRef obj=0x1127f402 at 0x7f314752c170>>, <io.anserini.search.ScoredDoc at 0x7f3147399130 jclass=io/anserini/search/ScoredDoc jself=<LocalRef obj=0x1127f40a at 0x7f314747faf0>>, <io.anserini.search.ScoredDoc at 0x7f3147399180 jclass=io/anserini/search/ScoredDoc jself=<LocalRef obj=0x1127f412 at 0x7f314752caf0>>, <io.anserini.search.ScoredDoc at 0x7f3147398730 jclass=io/anserini/search/ScoredDoc jself=<LocalRef obj=0x1127f41a at 0x7f314752c330>>, <io.anserini.search.ScoredDoc at 0x7f31473994f0 jclass=io/anserini/search/ScoredDoc jself=<LocalRef obj=0x1127f422 at 0x7f314752cb50>>, <io.anserini.search.ScoredDoc at 0x7f314739afd0 jclass=io/anserini/search/ScoredDoc jself=<LocalRef obj=0x1127f432 at 0x7f314752cb10>>], 'id3': [<io.anserini.search.ScoredDoc at 0x7f314739ae40 jclass=io/anserini/search/ScoredDoc jself=<LocalRef obj=0x1127f43a at 0x7f314752c130>>, <io.anserini.search.ScoredDoc at 0x7f314739b020 jclass=io/anserini/search/ScoredDoc jself=<LocalRef obj=0x1127f442 at 0x7f314752c270>>, <io.anserini.search.ScoredDoc at 0x7f314739b160 jclass=io/anserini/search/ScoredDoc jself=<LocalRef obj=0x1127f44a at 0x7f314752c870>>, <io.anserini.search.ScoredDoc at 0x7f314739af30 jclass=io/anserini/search/ScoredDoc jself=<LocalRef obj=0x1127f452 at 0x7f314752c470>>, <io.anserini.search.ScoredDoc at 0x7f314739b110 jclass=io/anserini/search/ScoredDoc jself=<LocalRef obj=0x1127f45a at 0x7f314752c7d0>>, <io.anserini.search.ScoredDoc at 0x7f314739b200 jclass=io/anserini/search/ScoredDoc jself=<LocalRef obj=0x1127f462 at 0x7f314752cad0>>, <io.anserini.search.ScoredDoc at 0x7f314739b250 jclass=io/anserini/search/ScoredDoc jself=<LocalRef obj=0x1127f46a at 0x7f314752c490>>, <io.anserini.search.ScoredDoc at 0x7f314739b2a0 jclass=io/anserini/search/ScoredDoc jself=<LocalRef obj=0x1127f472 at 0x7f314752c830>>, <io.anserini.search.ScoredDoc at 0x7f314739b2f0 jclass=io/anserini/search/ScoredDoc jself=<LocalRef obj=0x1127f47a at 0x7f314752c4b0>>, <io.anserini.search.ScoredDoc at 0x7f314739b340 jclass=io/anserini/search/ScoredDoc jself=<LocalRef obj=0x1127f482 at 0x7f314752c9f0>>]}\n"
     ]
    }
   ],
   "source": [
    "print(hits)"
   ]
  },
  {
   "cell_type": "code",
   "execution_count": 7,
   "metadata": {},
   "outputs": [
    {
     "name": "stdout",
     "output_type": "stream",
     "text": [
      "Rank: 1 | PassageID: clueweb22-en0021-14-14889:63 | Score: 9.510700225830078\n",
      "London i^the capital of Great Britain. What is the capital o f Germany? Berlin is the capital o f Germany. What is the capital o f France? Paris is the capital o f France. What is the capital o f Poland? Warsaw is the capital o f Poland. What is the capital of Germany? Berlin is the capital of Germany. ffrom\n",
      "Rank: 2 | PassageID: clueweb22-en0044-25-13469:0 | Score: 9.316100120544434\n",
      "What is the Capital of Germany? | Mappr What is the Capital of Germany? What is the Capital of Germany? Berlin is the capital and largest city of Germany. It is also a state-city. Berlin is located in northern Germany, the sandy region between the Spree and Havel rivers. From 1961 to 1990, the city divided into two, East and West Berlin, was named after the wall that divides itself into two. Then the wall was demolished. Where is Berlin? When did Berlin Become the Capital?\n",
      "Rank: 3 | PassageID: clueweb22-en0021-14-14889:62 | Score: 9.083200454711914\n",
      "[ greit bntn] | G erm any:] Poland [ paubndj 77; C\\ I -j . Berlin is the capital o f Germany. W hatj^ the capital o f Great Britain? London i^the capital of Great Britain. What is the capital o f Germany? Berlin is the capital o f Germany. What is the capital o f France? Paris is the capital o f France.\n",
      "Rank: 4 | PassageID: clueweb22-en0021-43-17041:0 | Score: 9.06779956817627\n",
      "Properties for sale in Bavaria, Germany - Bavaria, Germany properties for sale - Primelocation PrimeLocation International Germany Bavaria Property for sale in Bavaria, Germany 1 - 8 of 8 Save your search Get instant alerts New build £562,525 (€660,000) Apartment for sale Herbigstraße 31, 80999 München, Germany 1 1 Weißbier, Weißwurst, Dirndl and Lederhosen: That's what most people probably think of when they think of Munich. But apart from the Oktoberfest, the Bavarian capital is so much more: Large ... read more JLL Residential ... New build £549,740 (€645,000) Apartment for sale Herbigstraße 31, 80999 München, Germany 1 1 JLL Residential ... New build £396,325 (€465,000) Studio for sale Balanstraße 234, 81549 München, Germany 1 Weißbier, Weißwurst, Dirndl and Lederhosen: That's what most people probably think of when they think of Munich. But apart from the Oktoberfest, the Bavarian capital is so much more: Large ... read more JLL Residential ... New build £380,983 (€447,000) Studio for sale Balanstraße 234, 81549 München, Germany 1 Weißbier, Weißwurst, Dirndl and Lederhosen: That's what most people probably think of when they think of Munich. But apart from the Oktoberfest, the Bavarian capital is so much more: Large ... read more JLL Residential ... New build £362,232 (€425,000) Studio for sale Herbigstraße 31, 80999 München, Germany 1 Weißbier, Weißwurst, Dirndl and Lederhosen: That's what most people probably think of when they think of Munich. But apart from the Oktoberfest, the Bavarian capital is so much more: Large ... read more JLL Residential ... New build £353,709 (€415,000) Studio for sale Herbigstraße 33, 80999 München, Germany 1 Weißbier, Weißwurst, Dirndl and Lederhosen: That's what most people probably think of when they think of Munich.\n",
      "Rank: 5 | PassageID: clueweb22-en0023-36-17353:3 | Score: 9.007699966430664\n",
      "167 views View upvotes Related Answer Juergen Nieveler , studied at Gymnasium Zitadelle Answered 2 years ago · Upvoted by Anthony Hughes , BA History & Minor in Physics, University of North Texas and Quora User , lives in Berlin · Author has 2.3K answers and 3.6M answer views Why was Bonn, a fairly small and insignificant German town, selected as the capital of West Germany? How was the town affected by becoming the capital? What was the effect of moving the capital back to Berlin after reunification? Originally Answered: Why was Bonn, fairly small and insignificant German city, selected as a capital of West Germany? How the city was affected by becoming a capital? What was the effect of changing the capital back to Berlin after reunification? Berlin was not an option, because it was deep inside East Germany. Other options, especially Frankfurt (symbolic because it was the site where Germany first tried to get a democracy) was considered but rejected because it was destroyed too much. So it was decided that a smaller city that was more or less intact was to be used - Munich for example was considered. But the designated first chancellor of Germany, Konrad Adenauer, didn't like the idea.\n",
      "Rank: 6 | PassageID: clueweb22-en0025-55-08504:5 | Score: 8.948200225830078\n",
      "Germany, and its predecessor states before unification in 1871 What was the name given to kings in Germany before 1918? From 1871-1918 the head of state in Germany was the Emperor (Kaiser). What was the capital of Germany before World War 1? Berlin was the capital from 1871-1945. What year was Germany formed? Germany was formed in 1871. Before it was called Germany it was known as the Prussian Empire from 1701-1918 until the monarchy fell. Unified germany into one nation in 1871? Germany was unified into one nation on January 18, 1871. What year was Germany created?\n",
      "Rank: 7 | PassageID: clueweb22-en0026-71-16153:3 | Score: 8.916799545288086\n",
      "What was Germany's capital in 1914? Berlin What was the strongest country in 1914? Germany What were Germany's colonial interests in 1914? Germany had colonies in Africa and the Pacific. What are the release dates for Das Teufelsauge - 1914? Das Teufelsauge - 1914 was released on: Germany: May 1914 USA: July 1914 Was there enthusiasm for war in Germany in August 1914? In 1914 there was wild enthusiasm for the war in all of the main countries involved - including Germany. Population of Germany 1914? In 1914 Germany had a population of 67 million. Berlin was the capital and Kaiser Wilhelm II was the head of state.\n",
      "Rank: 8 | PassageID: clueweb22-en0008-17-04471:2 | Score: 8.85200023651123\n",
      "But Brazil is in South America. Is Germany Brazil's capital city? No, Germany isn't Brazil's capital city. Brazil and Germany are countries. Brazil is a country in South America. Its capital city is Brasilia. Germany is a country in Europe. Its capital city is Berlin. In what country is The city of manaus? Brazil Is Brazil the biggest city in the world?\n",
      "Rank: 9 | PassageID: clueweb22-en0005-52-06029:0 | Score: 8.83489990234375\n",
      "What are disadvantages of current account surplus? - Quora What are disadvantages of current account surplus? 4 Answers Best Anand Beh Answered 4 years ago · Author has 189 answers and 274K answer views Disadvantage – Capital Flight (a.k.a. capital outflows) Capital flight occurs when a country has a high savings rate, so investment (a.k.a capital) flows from that country to other countries. Germany, for example, invests overseas, experiencing capital outflows. Trade Surpluses + Capital Outflows A country like Germany, with a high savings rate, will experience capital outflows and a trade surplus. Germany’s capital outflows are known as capital flight, when savings travels overseas towards other countries. Low consumption, high savings -> trade surplus. Trade Deficits + Capital Inflows A country li Continue Reading Quora User Answered 6 months ago · Author has 457 answers and 372.1K answer views That money could have been spent instead of saved. The industries used to export goods and services to collect an account surplus. Could have been industries used to produce military assets instead.\n",
      "Rank: 10 | PassageID: clueweb22-en0021-90-08852:5 | Score: 8.825300216674805\n",
      "Germany has changed little, yet other European countries have stopped investing in the same pace, thereby lowering their ratios in the direction of the low German levels. That trend can also be found when looking at gross figures (left side of Figure 3). Germany’s public investment ratio declined in the 1990s and early 2000s and stabilised afterwards, while other countries exhibited much stronger public investment. In the last five years, gross public investment in France and the UK has been stronger than in Germany, while Spain and Italy have shown levels similar to Germany’s. Public investment in Germany Zooming into Germany, we see that fixed capital formation has been falling for 20 years as a percentage of GDP. The fall can be detected in gross and net numbers and is true for the public and the private sector. (Figure 4) Starting with private gross fixed capital formation of around 22% and private net fixed capital formation of 8.5% in 1991, Germany had rates of 18.1% and 2.8% respectively in 2017. For the public sector, public gross fixed capital formation fell from 3.2% to 2.2%, while public net fixed capital formation fell from 0.8% to 0.0% (with periods of negative rates) in the same period. Arguing that the fall of Germany’s public investment is only due to looking at gross numbers seems not to be valid, as both gross and net numbers have fallen similarly. What is behind the fall of public investment in Germany?\n",
      "Rank: 1 | PassageID: clueweb22-en0017-32-04653:0 | Score: 9.22029972076416\n",
      "What is the Capital of France? | Mappr Capital Cities What is the Capital of France? What is the Capital of France? Paris is the capital city of France and the center of France. It is built on the Seine River, in the middle of the Paris Basin. Where is Paris? Known for its monuments, artistic and cultural life all over the world, Paris is also one of the major economic and political centers along with being an important city in world history and is one of the transit points of international transport. Paris, a fashion and luxury world capital, is also known as “City of Lights”. When did Paris Become the Capital? The most important archaeological finds are the remains of the oldest permanent human settlement in the Paris region, which was discovered in 1991 in the 12th region.\n",
      "Rank: 2 | PassageID: clueweb22-en0016-24-18543:0 | Score: 8.990500450134277\n",
      "Brexit & Second Homes in France: What you need to know FRANCE Brexit & Second Homes in France: What you need to know The UK’s departure from the European Union will have consequences for Brits with second homes in France, below we set out what these changes are and how we think they will impact the market Written By: Kate Everett-Allen, Knight Frank 17 Dec 2020 4 minutes to read Categories:Property SectorResidential Sales TopicBrexit World RegionsEurope France We spoke with Caroline Cohen of The French law Practice who answered the following questions for us: If I am looking to buy in France will my purchase costs increase from 1 January 2021? No, there are no additional taxes for non-residents looking to purchase in France after 1 January 2021. Purchase costs will remain at around 7% for an existing property and 2% for a new-build home. What changes if I want to sell my second home in France? There are several factors to consider: Capital Gains Tax In France, there are two payments due on a capital gain, a capital gains tax (CGT) and a social levy. The standard capital gains tax on the sale of a property will remain at 19% and is only payable on a second home, if your French property is your primary residence no CGT is payable. The standard social levy charge for EU residents with a second home in France is currently 7.5% but this increases to 17.2% for British homeowners from 1 January 2021 as they will be no longer be EU residents. This means total costs will equate to 36.2%, up from 26.5%. It’s worth bearing in mind that a capital gain is largely a positive for a homeowner, it means a property asset, in the case of most French purchases, one bought for a lifestyle benefit, has also increased in value generating a return on investment. A taper relief also exists for both CGT and the social levy.\n",
      "Rank: 3 | PassageID: clueweb22-en0021-14-14889:63 | Score: 8.907099723815918\n",
      "London i^the capital of Great Britain. What is the capital o f Germany? Berlin is the capital o f Germany. What is the capital o f France? Paris is the capital o f France. What is the capital o f Poland? Warsaw is the capital o f Poland. What is the capital of Germany? Berlin is the capital of Germany. ffrom\n",
      "Rank: 4 | PassageID: clueweb22-en0037-88-06710:10 | Score: 8.903499603271484\n",
      "[ 13] For example, the fact described by the true statement \"Paris is the capital city of France\" implies that there is such a place as Paris, there is such a place as France, there are such things as capital cities, as well as that France has a government, that the government of France has the power to define its capital city, and that the French government has chosen Paris to be the capital, that there is such a thing as a place or a government, and so on. The verifiable accuracy of all of these assertions, if facts themselves, may coincide to create the fact, that Paris is the capital of France. Difficulties arise, however, in attempting to identify the constituent parts of negative, modal, disjunctive, or moral facts. [ 17] Fact–value distinction Main article: Fact–value distinction Moral philosophers since David Hume have debated whether values are objective, and thus factual. In A Treatise of Human Nature Hume pointed out there is no obvious way for a series of statements about what ought to be the case to be derived from a series of statements of what is the case. Those who insist there is a logical gulf between facts and values, such that it is fallacious to attempt to derive values from facts, include G. E. Moore, who called attempting to do so the naturalistic fallacy . Factual–counterfactual distinction Main article: Counterfactual conditional Factuality —what has occurred— can also be contrasted with counterfactuality: what might have occurred, but did not. A counterfactual conditional or subjunctive conditional is a conditional (or \"if-then\") statement indicating what would be the case if events had been other than they were.\n",
      "Rank: 5 | PassageID: clueweb22-en0001-30-00978:0 | Score: 8.807000160217285\n",
      "Who attacked both Britain and northern Gaul? - Answers 🤝 💻 💰 💯 Resources 📓 🏆 🔀 🤝 Who attacked both Britain and northern Gaul? Wiki User ∙ 2013-04-12 03:37:36 Study now Best Answer Copy angles/saxons Wiki User ∙ 2013-04-12 03:37:36 This answer is: Study guides United Kingdom 24 cards What is the capital of the United Kingdom What is the capital of Denmark What is the capital of Scotland What are narrow deep valleys called 4.5 ☆★☆★☆★☆★☆★ 6 Reviews Study now More answers Anonymous ∙ Lvl 1 ∙ 2020-04-06 19:37:34 Copy 1#. Who attacked both Britain and Northern gaul? This answer is: Who attacked both Britain and northern France? Germany What happened to deserters from France and Britain? they wree attacked by both France and Britain and they were devastated What happened to deserters from Britain and France? they wree attacked by both France and Britain and they were devastated Who attacked both Britain and France? Adyan and friends from Germany Why did America shortly stop trade with France and brion? Both France and Britain attacked America.\n",
      "Rank: 6 | PassageID: clueweb22-en0015-61-14458:0 | Score: 8.795999526977539\n",
      "What is the name of the hats that the people in Paris France wear? - Answers What is the name of the hats that the people in Paris France wear? Wiki User ∙ 2008-05-21 04:16:44 Study now Best Answer Copy barret Wiki User ∙ 2008-05-21 04:16:44 Study guides 📓 What country has a capital that name is Paris? France, Paris, France What is the name of the city that has the Eiffel tower? paris france What is France capital name? Paris What is a city in Paris? Paris is the name of a city, located in France. What is title I can use for a story about Paris France? Just use the name \"Paris\" or \"France :S What are name of cuisines of Paris? name of cuisines of France What is the meaning of the name Paris?\n",
      "Rank: 7 | PassageID: clueweb22-en0021-60-09500:1 | Score: 8.719300270080566\n",
      "Wiki User ∙ 2014-08-26 16:03:59 Study guides United Kingdom 24 cards What is the capital of the United Kingdom What is the capital of Denmark What is the capital of Scotland What are narrow deep valleys called ➡️ See all cards 4.5 ☆★☆★☆★☆★☆★ 6 Reviews How did the weak leadership contribute to the revolutionary mood in France? Cause the had swag for days How did Louis weak leadership contribute to the growing crisis in France? Heueueheh How did Louis xvis weak leadership contribute to the growing crisis in France? Heueueheh How did Louis XVI weak leadership contribute to growing crisis in France? Heueueheh How did Louis XVI weak leadership contribute to the growing crisis in France? Heueueheh How did Louis XIV's weak leadership contribute to the growing crisis in France? I don't know, I have problem too What did etruscans contribute ti the worlds knowledge? They went to south of Syria to trade and contribute but the Romans were to weak to contribute back to the etruscans. Even the indians were to weak Did the consulate bring weak and unorganized leadership in France? That would have been impossible since it brought Napoleon Bonaparte into the government as the First Consul.\n",
      "Rank: 8 | PassageID: clueweb22-en0037-88-06710:9 | Score: 8.717900276184082\n",
      "14] Correspondence and the slingshot argument Pascal Engel's version of the correspondence theory of truth explains that what makes a sentence true is that it corresponds to a fact. [ 15] This theory presupposes the existence of an objective world. The Slingshot argument claims to show that all true statements stand for the same thing, the truth value true. If this argument holds, and facts are taken to be what true statements stand for, then one arrives at the counter-intuitive conclusion that there is only one fact: the truth.[16] Compound facts Any non-trivial true statement about reality is necessarily an abstraction composed of a complex of objects and properties or relations .\"Facts possess internal structure, being complexes of objects and properties or relations\" [ 13] For example, the fact described by the true statement \"Paris is the capital city of France\" implies that there is such a place as Paris, there is such a place as France, there are such things as capital cities, as well as that France has a government, that the government of France has the power to define its capital city, and that the French government has chosen Paris to be the capital, that there is such a thing as a place or a government, and so on. The verifiable accuracy of all of these assertions, if facts themselves, may coincide to create the fact, that Paris is the capital of France. Difficulties arise, however, in attempting to identify the constituent parts of negative, modal, disjunctive, or moral facts. [\n",
      "Rank: 9 | PassageID: clueweb22-en0015-31-19006:0 | Score: 8.682100296020508\n",
      "Dijon city guide - essential visitor information in English Dijon - city and visitor guide Discover the historic capital city of Burgundy About-France.com - the connoisseur's guide to France Explore France ► Essential pages Travel in France Where to go What to see and do ► You are here : France › Heritage cities › Dijon Dijon - the capital of Burgundy On this page Location and access Tourist attractions In the area Local accommodation Parking : the blue dots show parking lots near the tram route. Traffic access to the historic centre is limited, but there are numerous car parks and plenty of street parking too. Just an hour and a half from Paris by high speed train, Dijon, the capital of the modernday region of Bourgogne - Franche- Comté, is a city with a very proud past. In the Middle Ages, the Dukes of Burgundy were second only in power to the Kings of France: and indeed for much of the Middle Ages, the Dukedom of Burgundy was to all intents and purposes an independent state, separate from and at times at war with the Kingdom of France. In the 14th and 15th centuries, the Duchy of Burgundy was a major European power, whose territory stretched at its peak from the North Sea (Flanders, Artois and Picardy) to the border with Switzerland, and Dijon was its capital. Since the regional reforms of 2016, Dijon has become the smallest regional capital in France apart from Orleans , and no longer occupies the position of importance that it enjoyed in medieval and Renaissance times . With a population of just over 150,000, it is far smaller than the big provincial capitals of France like Lyon or Toulouse or Strasbourg. In 2015, its historic centre was listed as a UNESCO world heritage site. Located at the northern end of the main Burgundy vineyard area, Dijon is nowadays best known as one of the wine capitals of France, and also for its famous mustard, la Moutarde de Dijon, which is known worldwide. Don't expect however to find a city surrounded by mustard fields; the yellow fields that can be seen round Dijon in the spring time are fields of colza, or oil-seed rape, not of mustard.\n",
      "Rank: 10 | PassageID: clueweb22-en0021-14-14889:62 | Score: 8.652999877929688\n",
      "[ greit bntn] | G erm any:] Poland [ paubndj 77; C\\ I -j . Berlin is the capital o f Germany. W hatj^ the capital o f Great Britain? London i^the capital of Great Britain. What is the capital o f Germany? Berlin is the capital o f Germany. What is the capital o f France? Paris is the capital o f France.\n",
      "Rank: 1 | PassageID: clueweb22-en0017-87-04946:5 | Score: 9.749799728393555\n",
      "what region is italy located Where is the island of Sicily? Sicily, the largest island in the Mediterranean Sea is an autonomous region of Italy. It's located at the 'toe' of Italy's 'boot'. The capital of Sicily is Palermo. What is the capital of Italy and in which region is it found? The capital of Italy is Roma,  and Italy is in the region Lazio. 🇮🇹 What is the poorest region on Italy? The poorest region of Italy is basilicata. What is the largest lsland of Italy? Sicily is the largest island of Italy.\n",
      "Rank: 2 | PassageID: clueweb22-en0001-68-18092:0 | Score: 9.5733003616333\n",
      "What is the Capital of Italy? | Mappr What is the Capital of Italy? The capital of Italy is Rome. Rome, the capital of the Italian and Lazio region; is between the Tiber and Aniane rivers. It is also the spiritual and administrative center of the Catholic Church. Where is Rome? The spiritual leader of the Catholics is also the Vatican, the independent state where the Pope lives. For this reason, Rome is referred to as the capital of two states by some sources. The city of 2800 years, respectively, and by official names; Byzantium, the Roman Kingdom, the Roman Republic, the Roman Empire, the Papacy, the Kingdom of Italy, and the Republic of Italy. When did Rome Become the Capital? According to the legend, Rome was founded by Romulus and Romus, a shepherd who grew up on Polatium Hill.\n",
      "Rank: 3 | PassageID: clueweb22-en0012-43-15258:4 | Score: 9.509599685668945\n",
      "The Bank of America traces its origin to the formation by Amadeo Giannini of the Bank of Italy in San Francisco in 1904. Following a sequence of mergers and acquisitons, Giannini renamed the Bank of Italy as the Bank of America on 3 November 1930. What is the distance from Italy to Rome? Rome is the capital of Italy, therefore Rome is in Italy. Location of Rome Italy? Rome is in Italy. rome is the Capital City. Rome is in Italy. rome is the Capital City. After the 1906 san francisco earthquake amadeo giannini and the bank of Italy dominated the bay area and in 1929 oddly enough the bank of Italy merged with what la-bank? Bank of America\n",
      "Rank: 4 | PassageID: clueweb22-en0017-87-04946:4 | Score: 9.315999984741211\n",
      "gioia tauro gioia tauro What is the biggest region in Italy? Sicily is the largest region in Italy. It is 25,711 km squared in area. Hope this helps! In what region is Italy located? what region is italy located Where is the island of Sicily? Sicily, the largest island in the Mediterranean Sea is an autonomous region of Italy. It's located at the 'toe' of Italy's 'boot'. The capital of Sicily is Palermo. What is the capital of Italy and in which region is it found?\n",
      "Rank: 5 | PassageID: clueweb22-en0017-87-04946:6 | Score: 9.251999855041504\n",
      "The capital of Italy is Roma,  and Italy is in the region Lazio. 🇮🇹 What is the poorest region on Italy? The poorest region of Italy is basilicata. What is the largest lsland of Italy? Sicily is the largest island of Italy. Is Sicily a town or a city in Italy? Sicily is an island (the largest in the Mediterranean Sea), and is an autonomous region of Italy. Its capital city is Palermo and its most prominent feature is Mt.Etna.\n",
      "Rank: 6 | PassageID: clueweb22-en0024-04-03642:4 | Score: 9.242600440979004\n",
      "Rome is in Italy. rome is the Capital City. Rome is in Italy. rome is the Capital City. Rome is an ideal place for a city. It is located on the what river? Rome is located on the River Tiber. Location of Rome? Rome is located in Italy, and is nicknamed the Eternal City. Rome is the capital city of Italy and there are 4.2 million people who live in the city. What is the location of Stadio Flaminio?\n",
      "Rank: 7 | PassageID: clueweb22-en0017-87-04946:3 | Score: 9.24020004272461\n",
      "Piedmont is 8.4%. What is the capital of Italy? Rome is the capital city of Italy. It is located in the Lazio region. Which region in Italy has one of the largest seaports in the world? gioia tauro gioia tauro What is the biggest region in Italy? Sicily is the largest region in Italy. It is 25,711 km squared in area. Hope this helps! In what region is Italy located?\n",
      "Rank: 8 | PassageID: clueweb22-en0037-78-10679:7 | Score: 9.197099685668945\n",
      "You can score up to 20 points in this round. Round 4: Italy geography Quiz Questions On which Italian island can you find the town of Alghero? What is the capital of Sicily? Which range of mountains can you find at the border between Italy and France? What is the capital of Puglia? Which UNESCO site is made of 18 peaks and located in the northern Italian Alps? Which region is Naples the capital of? Which UNESCO site is made of 5 seaside villages in Northern Italy? What is the largest lake in Italy? Which river flows through Rome?\n",
      "Rank: 9 | PassageID: clueweb22-en0039-44-03405:1 | Score: 9.042799949645996\n",
      "What city in Switzerland is closest to Lake Como Italy? Chiasso What are the two closest capital cities in Europe? Vatican City and Rome, Italy. What is the largest German city to Trier Germany? The largest German city, closest to Trier, is Saarbr&uuml;cken, with a population of more than 176,000 and the capital of the German state of the Saarland. Is Italy close to Paris? It is about 315 miles from the city of Paris France to the closest edge of the nation of Italy. Depending on your destination in Italy, it will be further. What major German city is closest to the Austrian Border? Munich is the major city that is nearest to the Austrian border.\n",
      "Rank: 10 | PassageID: clueweb22-en0040-89-17647:2 | Score: 9.024299621582031\n",
      "[ 3] The original territory, also known as \"ducal Savoy\" or \"Savoy proper\", is largely co-terminous with the modern French Savoie and Haute-Savoie départements, but the historical expansion of Savoyard territories, as the Duchy of Savoy (1416–1860) included parts of what is now western Italy and southwestern Switzerland . The current border between France and Italy is due to the Plombières Agreement of 1858, which in preparation for the unification of Italy ceded western Savoy to France, while the eastern territories in Piedmont and Liguria were retained by the House of Savoy, which was to become the ruling dynasty of Italy . Contents 1 Geography 2 History 2.1 Early history 2.2 Early and High Middle Ages 2.3 Duchy of Savoy 2.4 French Revolutionary Wars 2.5 Modern history 2.5.1 Annexation to France 2.5.2 20th century 3 Modern regionalist politics 4 Modern historiographical debates 5 See also 6 Notes 7 References 8 External links Geography[edit] Alpine landscape of Les Saisies, as seen from Mont Bisanne. In modern France, Savoy is part of the Auvergne-Rhône-Alpes region. Following its annexation to France in 1860, the territory of Savoy was divided administratively into two separate departments, Savoie and Haute-Savoie . The traditional capital remains Chambéry (Ciamberì ), on the rivers Leysse and Albane, hosting the castle of the House of Savoy and the Savoyard senate. The state included six districts: Savoie Propre, sometimes known as Ducal Savoy (capital Chambéry) Chablais (capital Thonon-les-Bains) Faucigny (capital Bonneville) Tarentaise (capital Moûtiers) Maurienne (capital Saint-Jean-de-Maurienne) Genevois (capital Annecy) The County and Duchy of Savoy incorporated Turin and other territories in Piedmont, a region in northwestern Italy that borders Savoy, which were also possessions of the House of Savoy. The capital of the Duchy remained at the traditional Savoyard capital of Chambéry until 1563, when it was moved to Turin. History[edit\n"
     ]
    }
   ],
   "source": [
    "import json\n",
    "\n",
    "candidate_set = []\n",
    "for qid, hit in hits.items():\n",
    "    for i, doc_object in enumerate(hit):\n",
    "        print('Rank: {} | PassageID: {} | Score: {}'.format(i+1, doc_object.docid, doc_object.score))\n",
    "        doc = searcher.doc(doc_object.docid)\n",
    "        parsed_doc = json.loads(doc.raw())\n",
    "        print(parsed_doc['contents'])\n",
    "        candidate_set.append({\n",
    "            'passage_id': hit[i].docid,\n",
    "            'bm25_rank': i+1,\n",
    "            'bm25_score': hit[i].score,\n",
    "            'passage_text': parsed_doc['contents']\n",
    "        })"
   ]
  }
 ],
 "metadata": {
  "kernelspec": {
   "display_name": "Python 3",
   "language": "python",
   "name": "python3"
  },
  "language_info": {
   "codemirror_mode": {
    "name": "ipython",
    "version": 3
   },
   "file_extension": ".py",
   "mimetype": "text/x-python",
   "name": "python",
   "nbconvert_exporter": "python",
   "pygments_lexer": "ipython3",
   "version": "3.12.4"
  }
 },
 "nbformat": 4,
 "nbformat_minor": 2
}
