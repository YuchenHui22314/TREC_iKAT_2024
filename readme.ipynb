{
 "cells": [
  {
   "cell_type": "markdown",
   "metadata": {},
   "source": [
    "# Preprocessing topics"
   ]
  },
  {
   "cell_type": "code",
   "execution_count": null,
   "metadata": {},
   "outputs": [],
   "source": [
    "import sys\n",
    "sys.path.append('/data/rech/huiyuche/TREC_iKAT_2024/src/')\n",
    "from topics import Turn, load_turns_from_ikat_topic_files, save_turns_to_json, load_turns_from_json,Result,Reformulation\n",
    "from dataclasses import asdict\n",
    "import json\n",
    "\n",
    "# downloaded from ikat website, in ikat format\n",
    "ikat_topic_file = \"/data/rech/huiyuche/TREC_iKAT_2024/data/topics/2023_ikat_test_topics.json\"\n",
    "\n",
    "# where you want to put the processed file.\n",
    "where_to_save = \"/data/rech/huiyuche/TREC_iKAT_2024/test/ikat_2023_test.json\""
   ]
  },
  {
   "cell_type": "code",
   "execution_count": null,
   "metadata": {},
   "outputs": [],
   "source": [
    "list_of_turns = load_turns_from_ikat_topic_files(ikat_topic_file)\n",
    "lists_of_turns_dict = [asdict(turn) for turn in list_of_turns]\n",
    "json.dump(lists_of_turns_dict, open(where_to_save, \"w\"), indent=4)"
   ]
  },
  {
   "cell_type": "markdown",
   "metadata": {},
   "source": [
    "# Preprocessing clueweb collection\n",
    "use `/data/rech/huiyuche/TREC_iKAT_2024/data_preprocessing_scripts/convert_tsv_to_pyserini_file.py` to preprocess .tsv file and convert to jsonl file."
   ]
  },
  {
   "cell_type": "markdown",
   "metadata": {},
   "source": [
    "# indexing\n",
    "## BM25\n",
    "use `/data/rech/huiyuche/TREC_iKAT_2024/src/indexing/jsonl_sparse_indexing.sh` to index the preprocessed .jsonl file.\n",
    "## Splade"
   ]
  },
  {
   "cell_type": "markdown",
   "metadata": {},
   "source": [
    "# Evaluation"
   ]
  }
 ],
 "metadata": {
  "kernelspec": {
   "display_name": "Python 3",
   "language": "python",
   "name": "python3"
  },
  "language_info": {
   "name": "python",
   "version": "3.12.4"
  }
 },
 "nbformat": 4,
 "nbformat_minor": 2
}
