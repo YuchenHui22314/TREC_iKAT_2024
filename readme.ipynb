{
 "cells": [
  {
   "cell_type": "markdown",
   "metadata": {},
   "source": [
    "# Preprocessing topics"
   ]
  },
  {
   "cell_type": "code",
   "execution_count": 10,
   "metadata": {},
   "outputs": [],
   "source": [
    "import sys\n",
    "sys.path.append('/data/rech/huiyuche/TREC_iKAT_2024/src/')\n",
    "from topics import Turn, load_turns_from_ikat_topic_files, save_turns_to_json, load_turns_from_json,Result,Reformulation\n",
    "from dataclasses import asdict\n",
    "import json\n",
    "\n",
    "# downloaded from ikat website, in ikat format\n",
    "ikat_topic_file = \"/data/rech/huiyuche/TREC_iKAT_2024/data/topics/2023_ikat_test_topics.json\"\n",
    "\n",
    "\n",
    "#where_to_save = \"/data/rech/huiyuche/TREC_iKAT_2024/data/topics/ikat_2023_test.json\"\n",
    "\n",
    "# where you want to put the processed file.\n",
    "where_to_save = \"/data/rech/huiyuche/TREC_iKAT_2024/test/ikat_2023_test.json\""
   ]
  },
  {
   "cell_type": "markdown",
   "metadata": {},
   "source": [
    "Then use the following code to preprocess trec topics."
   ]
  },
  {
   "cell_type": "code",
   "execution_count": 11,
   "metadata": {},
   "outputs": [
    {
     "name": "stdout",
     "output_type": "stream",
     "text": [
      "{\n",
      "    \"turn_id\": \"9-1-1\",\n",
      "    \"conversation_id\": \"9-1\",\n",
      "    \"title\": \"Finding a diet\",\n",
      "    \"current_utterance\": \"Can you help me find a diet for myself?\",\n",
      "    \"current_response\": \"Sure, these diets fit your condition and preference: 1) Vegan Mediterranean combines the principles of the Mediterranean diet with veganism and emphasizes whole grains, vegetables, beans, nuts, seeds, herbs, and spices. It excludes animal foods while incorporating plant-based alternatives, offering a sustainable and compassionate approach. (2) Vegan Keto: is a high-fat, low-carbohydrate, and moderate-protein diet which is also exclusively plant-based. It suits individuals following a vegan lifestyle who wish to adopt a ketogenic eating plan. (3) Eco-Atkins is a vegetarian variation of the Atkins diet which focuses on whole grains, vegetables, tofu, legumes, nuts, and seeds while minimizing animal products. By reducing carbohydrate intake and incorporating plant-based protein sources, it promotes sustainability and healthier eating. (4) The Ornish Diet (with limited exercise) is designed to improve overall health, support weight loss, and reverse cardiovascular disease progression, the Ornish diet is low in fat. It emphasizes exercise, stress management, and healthy relationships alongside a low-fat eating plan. It is worth noting that vegan diets, in general, have been linked to a lower risk of chronic health conditions, including heart disease. These diet options provide alternatives for individuals with specific dietary preferences and goals.\",\n",
      "    \"oracle_utterance\": \"Can you help me find a diet for myself considering that I'm vegetarian, allergic to soybeans, lactose intolerant, can't exercise too much, and should drink water regularly?\",\n",
      "    \"response_provenance\": [\n",
      "        \"clueweb22-en0035-25-01897:1\",\n",
      "        \"clueweb22-en0004-30-08099:2\",\n",
      "        \"clueweb22-en0038-84-16253:4\",\n",
      "        \"clueweb22-en0020-69-12751:1\",\n",
      "        \"clueweb22-en0007-46-12888:5\"\n",
      "    ],\n",
      "    \"context_utterances\": [],\n",
      "    \"ptkb\": {\n",
      "        \"1\": \"I don't like the new spin-off; because I keep comparing the two and it has lower quality.\",\n",
      "        \"2\": \"Because of my kidney problem, I have to drink water frequently to stay hydrated.\",\n",
      "        \"3\": \"I'm going to change my phone.\",\n",
      "        \"4\": \"I can't exercise too much because of the heart problem that I have.\",\n",
      "        \"5\": \"I'm vegetarian.\",\n",
      "        \"6\": \"I'm lactose intolerant.\",\n",
      "        \"7\": \"I'm allergic to soybeans.\",\n",
      "        \"8\": \"I just finished watching the Game of Thrones.\",\n",
      "        \"9\": \"I didn't like how the series ended, especially the war scenes.\",\n",
      "        \"10\": \"I'm an Android user.\"\n",
      "    },\n",
      "    \"ptkb_provenance\": [\n",
      "        5,\n",
      "        4,\n",
      "        2\n",
      "    ],\n",
      "    \"reformulations\": [],\n",
      "    \"results\": []\n",
      "}\n"
     ]
    }
   ],
   "source": [
    "list_of_turns = load_turns_from_ikat_topic_files(ikat_topic_file)\n",
    "turn_dict_list = save_turns_to_json(list_of_turns, where_to_save)\n",
    "print(json.dumps(turn_dict_list[0], indent=4))"
   ]
  },
  {
   "cell_type": "markdown",
   "metadata": {},
   "source": [
    "# Preprocessing clueweb collection\n",
    "use `/data_preprocessing_scripts/convert_tsv_to_pyserini_file.py` \n",
    "to preprocess .tsv file and convert to jsonl file.\n",
    "# Preprocessing qrel\n",
    "use `/data_preprocessing_scripts/preprocess_qrel.py` to preprocess qrel file downloaded from ikat website. (just replace _ with -)\n",
    "\n"
   ]
  },
  {
   "cell_type": "markdown",
   "metadata": {},
   "source": [
    "# indexing\n",
    "#### BM25\n",
    "use `/src/indexing/jsonl_sparse_indexing.sh` to index the preprocessed .jsonl file.\n",
    "#### Splade"
   ]
  },
  {
   "cell_type": "markdown",
   "metadata": {},
   "source": [
    "# Evaluation\n",
    "#### Scripts to use\n",
    "To run the retrieval + reranking + generation pipeline, you should run `/src/evaluate/run_ikat_23_bm25_rankgpt_evaluation.sh`. The parameters are:\n",
    "- `--collection` : the name of the collection to use. This argument will be used to generate the file name of evaluation result files. Default is `ClueWeb_ikat`. Can be `[ClueWeb22B_ikat]`.\n",
    "- `--topics` : Name of test queries. This argument will be used to generate the file name of evaluation result files. Default is `ikat_23_test`. Can be `[ikat_23_test, ikat_24_test]`.\n",
    "- `--input_query_path` : the path to the input query file. Default is `../../data/topics/ikat_2023_test.json`.\n",
    "- `--index_dir_path` : the path to the directory containing the index files. Default is `../../data/indexes/clueweb22b_ikat23_fengran_sparse_index_2`.\n",
    "- `--output_dir_path` : the path to the directory where the output files will be saved. Default is `../../results`.\n",
    "- `--qrel_file_path` : the path to the QREL file. This file contains the ground truth relevance judgments. Default is `../../data/qrels/ikat_23_qrel.txt`.\n",
    "- `--retrieval_model` : the retrieval model to use. Default is `BM25`. Can be `[BM25, ance, dpr, splade]`.\n",
    "- `--cache_dir` : the path to the cache directory. Default is `/data/rech/huiyuche/huggingface`. Cache directory for Huggingface models.\n",
    "- `--dense_query_encoder_path` : the path to the dense query encoder model. Default is `castorini/ance-msmarco-passage`. Should be a Huggingface format folder/link to a model.\n",
    "- `--reranker` : the reranker model to use. Default is `none`. Can be `['none', rankllama, rankgpt, 'monot5_base', 'monot5_base_10k']`.\n",
    "- `--rerank_quant` : the quantization method for reranking. Default is `none`. Can be `['none', '8b', '4b']`.\n",
    "- `--rankgpt_llm` : the language model to use for RankGPT. Default is `gpt-3.5-turbo`. Can be `['gpt-3.5-turbo']`.\n",
    "- `--window_size` : the size of the window for RankGPT. Default is `5`.\n",
    "- `--step` : the step size for RankGPT. Default is `1`.\n",
    "- `--generation_model` : model for response generation.\n",
    "- `--bm25_k1` : the `k1` parameter for the BM25 model. Default is `0.9`.\n",
    "- `--bm25_b` : the `b` parameter for the BM25 model. Default is `0.4`.\n",
    "- `--use_rm3` : if RM3 will be used. Default is `False`.\n",
    "- `--fb_terms` : the number of feedback terms for the RM3 model. Default is `10`.\n",
    "- `--fb_docs` : the number of feedback documents for the RM3 model. Default is `10`.\n",
    "- `--original_query_weight` : the weight of the original query in the RM3 model. Default is `0.5`.\n",
    "- `--retrieval_top_k` : the number of top documents to retrieve. Default is `1000`.\n",
    "- `--rerank_top_k` : the number of top documents to rerank. Default is `50`.\n",
    "- `--generation_top_k` : the number of top documents to generate responses from. Default is `3`.\n",
    "- `--metrics` : the evaluation metrics to compute. Default is `map, ndcg_cut.1, ndcg_cut.3, ndcg_cut.5, ndcg_cut.10, P.1, P.3, P.5, P.10, recall.5, recall.100, recall.1000, recip_rank`. Should be a comma-separated string of metrics.\n",
    "- `--save_metrics_to_object` : whether to save metrics to an object. Default is `False`.\n",
    "\n",
    "\n",
    "\n",
    "\n",
    "#### Where to find results\n",
    "For each run, the results are automatically saved to /results/args.collection/args.topics. There are three sub-folders:\n",
    "1. metrics. Contains:\n",
    "    1. for each metric, a .txt file containing the metric value accross all runs.\n",
    "    2. for each run, a . json file containing all the metrics calculated in the run.\n",
    "2. per_qeury_metrics: for each run, a .json file containing all the metrics calculated for each query.\n",
    "3. ranking: for each run, a .txt file containing the trec format ranking result. "
   ]
  }
 ],
 "metadata": {
  "kernelspec": {
   "display_name": "Python 3",
   "language": "python",
   "name": "python3"
  },
  "language_info": {
   "codemirror_mode": {
    "name": "ipython",
    "version": 3
   },
   "file_extension": ".py",
   "mimetype": "text/x-python",
   "name": "python",
   "nbconvert_exporter": "python",
   "pygments_lexer": "ipython3",
   "version": "3.12.4"
  }
 },
 "nbformat": 4,
 "nbformat_minor": 2
}
