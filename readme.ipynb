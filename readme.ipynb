{
 "cells": [
  {
   "cell_type": "markdown",
   "metadata": {},
   "source": [
    "# Preprocessing topics"
   ]
  },
  {
   "cell_type": "code",
   "execution_count": null,
   "metadata": {},
   "outputs": [],
   "source": [
    "import sys\n",
    "sys.path.append('/data/rech/huiyuche/TREC_iKAT_2024/src/')\n",
    "from topics import Turn, load_turns_from_ikat_topic_files, save_turns_to_json, load_turns_from_json,Result,Reformulation\n",
    "from dataclasses import asdict\n",
    "import json\n",
    "\n",
    "# downloaded from ikat website, in ikat format\n",
    "ikat_topic_file = \"/data/rech/huiyuche/TREC_iKAT_2024/data/topics/2023_ikat_test_topics.json\"\n",
    "\n",
    "# where you want to put the processed file.\n",
    "where_to_save = \"/data/rech/huiyuche/TREC_iKAT_2024/test/ikat_2023_test.json\""
   ]
  },
  {
   "cell_type": "markdown",
   "metadata": {},
   "source": [
    "Then use the following code to preprocess trec topics."
   ]
  },
  {
   "cell_type": "code",
   "execution_count": null,
   "metadata": {},
   "outputs": [],
   "source": [
    "list_of_turns = load_turns_from_ikat_topic_files(ikat_topic_file)\n",
    "save_turns_to_json(list_of_turns, where_to_save)"
   ]
  },
  {
   "cell_type": "markdown",
   "metadata": {},
   "source": [
    "# Preprocessing clueweb collection\n",
    "use `/data_preprocessing_scripts/convert_tsv_to_pyserini_file.py` \n",
    "to preprocess .tsv file and convert to jsonl file.\n",
    "# Preprocessing qrel\n",
    "use `/data_preprocessing_scripts/preprocess_qrel.py` to preprocess qrel file downloaded from ikat website. (just replace _ with -)\n",
    "\n"
   ]
  },
  {
   "cell_type": "markdown",
   "metadata": {},
   "source": [
    "# indexing\n",
    "#### BM25\n",
    "use `/src/indexing/jsonl_sparse_indexing.sh` to index the preprocessed .jsonl file.\n",
    "#### Splade"
   ]
  },
  {
   "cell_type": "markdown",
   "metadata": {},
   "source": [
    "# Evaluation\n",
    "#### Scripts to use\n",
    "- For BM25 only, please first `cd` to /src/evaluate/ then run `/src/evaluate/run_ikat_23_bm25_evaluation.sh`\n",
    "\n",
    "- For BM25 + reranker, please refer to \n",
    "#### Where to find results\n",
    "For each run, the results are automatically saved to /results/args.collection/args.topics. There are three sub-folders:\n",
    "1. metrics. Contains:\n",
    "    1. for each metric, a .txt file containing the metric value accross all runs.\n",
    "    2. for each run, a . json file containing all the metrics calculated in the run.\n",
    "2. per_qeury_metrics: for each run, a .json file containing all the metrics calculated for each query.\n",
    "3. ranking: for each run, a .txt file containing the trec format ranking result. "
   ]
  }
 ],
 "metadata": {
  "kernelspec": {
   "display_name": "Python 3",
   "language": "python",
   "name": "python3"
  },
  "language_info": {
   "name": "python",
   "version": "3.12.4"
  }
 },
 "nbformat": 4,
 "nbformat_minor": 2
}
